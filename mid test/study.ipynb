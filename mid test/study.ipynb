{
 "cells": [
  {
   "cell_type": "code",
   "execution_count": null,
   "metadata": {},
   "outputs": [],
   "source": [
    "x = int(input())\n",
    "if x >= 10:\n",
    "    print(\"10 이상입니다.\")\n",
    "    if x == 15:\n",
    "        print(\"15입니다.\")\n",
    "    if x == 20:\n",
    "        print(\"20입니다.\")"
   ]
  },
  {
   "cell_type": "code",
   "execution_count": null,
   "metadata": {},
   "outputs": [],
   "source": [
    "x = 5\n",
    "if x ==10:\n",
    "    print('10입니다.')\n",
    "else:\n",
    "    print('10이 아닙니다.')"
   ]
  },
  {
   "cell_type": "code",
   "execution_count": null,
   "metadata": {},
   "outputs": [],
   "source": [
    "x = 10\n",
    "y = 20\n",
    "\n",
    "if x == 10 and y == 20:\n",
    "    print('참')\n",
    "else:\n",
    "    print('거짓')"
   ]
  },
  {
   "cell_type": "code",
   "execution_count": null,
   "metadata": {},
   "outputs": [],
   "source": [
    "x = int(input('숫자를 입력해주세요 : '))\n",
    "if x > 0 and x < 20:\n",
    "    print('0부터 20 사이입니다')\n",
    "else:\n",
    "    print('아닙니다.')"
   ]
  },
  {
   "cell_type": "code",
   "execution_count": null,
   "metadata": {},
   "outputs": [],
   "source": [
    "x = int(input('숫자를 입력해주세요 : '))\n",
    "if 0 < x < 20:\n",
    "    print('0부터 20 사이입니다')\n",
    "else:\n",
    "    print('아닙니다.')\n",
    "\n"
   ]
  },
  {
   "cell_type": "code",
   "execution_count": null,
   "metadata": {},
   "outputs": [],
   "source": [
    "x = int(input('성적을 입력해주세요 : '))\n",
    "if 100>= x > 90:\n",
    "    print('당신의 성적은 A 입니다')\n",
    "elif 90 >= x > 80:\n",
    "    print('당신의 성적은 B 입니다')\n",
    "elif 80 >= x > 70:\n",
    "    print('당신의 성적은 C 입니다')\n",
    "elif 70 >= x > 60:\n",
    "    print('당신의 성적은 D 입니다')\n",
    "else:\n",
    "    print('낙제!') "
   ]
  },
  {
   "cell_type": "code",
   "execution_count": null,
   "metadata": {},
   "outputs": [],
   "source": [
    "for a in range (100,0):\n",
    "    print(\"hello world!\",a)"
   ]
  },
  {
   "cell_type": "code",
   "execution_count": null,
   "metadata": {},
   "outputs": [],
   "source": [
    "for i in range(100,0,-2):\n",
    "    print(\"Hello World!\",i)"
   ]
  },
  {
   "cell_type": "code",
   "execution_count": null,
   "metadata": {},
   "outputs": [],
   "source": [
    "for i in [0,1,2,3,4]:\n",
    "    print(\"Hello World!\")"
   ]
  },
  {
   "cell_type": "code",
   "execution_count": null,
   "metadata": {},
   "outputs": [],
   "source": [
    "for i in reversed(range(10)):\n",
    "    print('Hello World!',i)"
   ]
  },
  {
   "cell_type": "code",
   "execution_count": null,
   "metadata": {},
   "outputs": [],
   "source": [
    "count = int(input('숫자를 입력해주세요 : '))\n",
    "\n",
    "for i in range(count):\n",
    "    print('안녕하세요 '+str(i)+'번')"
   ]
  },
  {
   "cell_type": "code",
   "execution_count": null,
   "metadata": {},
   "outputs": [],
   "source": [
    "for letter in 'python':\n",
    "    print(letter, end=' ')"
   ]
  },
  {
   "cell_type": "code",
   "execution_count": null,
   "metadata": {},
   "outputs": [],
   "source": [
    "s = \"\"\"iOS의 기본 앱인 Apple 지갑을 통해 사용한다. 최초 사용 시 iTunes Store에 등록된 신용 카드의 CVC를 입력하면 기본 결제 카드로 Wallet에 등록된다. 그 외 카드를 추가하려면 사용자는 카메라로 신용카드를 비추어 iOS가 알아서 또는 사람이 자신의 신용카드 정보를 Apple Wallet에 입력하여 등록한다. 카드 등록 시 해당 카드 발급사의 서버에 정보를 보내어 해당 카드가 도난당한 카드는 아닌지, iTunes Store에 등록된 사용자 정보와 카드 소유주 정보가 일치하는지 등을 검증하는 과정을 거친다.\n",
    "온라인: 개발자가 Apple Pay API를 사용하여 앱 내 결제(IAP; In-App Purchase)에서 다른 지불방식(신용 카드 정보의 수기입력)과 함께 택할 수 있다. 사용자는 앱 내 결제 시 Apple Pay로 결제하는 방법을 선택하면 Touch ID 또는 Face ID 인증을 요청하는 인터페이스가 뜨며 지문 인식 또는 얼굴 인식을 하면 결제가 진행된다.\n",
    "오프라인: NFC 단말기가 활성화 되어있고 Apple Pay에 가맹된 사업체에서만 지불/결제가 가능하다. 결제 시 직원에게 Apple Pay로 결제할 것을 알려주고 iPhone을 NFC 단말 근처에 가져갈 경우 Wallet 화면과 함께 Touch ID 및 Face ID 인증을 요청하는 인터페이스가 뜨며 지문 인식 또는 얼굴 인식을 하면 결제가 진행된다.[14] Tech review: Samsung Pay vs. Apple Pay\n",
    "\n",
    "NFC를 미탑재한 iPhone은 Apple Watch를 통해서만 오프라인에서 Apple Pay 이용이 가능하다. iPhone 5와 iPhone 5s, 그리고 iPhone 5c가 이에 해당. 상위 기종은 Suica를 제외하고 iPhone과 Apple Watch에서 동시 사용 가능.\n",
    "\n",
    "통신 자체는 NFC 기반 근거리 무선통신을 이용한다. 다만 개인정보를 처리하는 과정에서 다른 서비스들과 차이점이 있는데, 첫째로 단말기 내에는 카드번호나 CVC 번호가 저장되지 않는다. 단말기는 오직 카드사로부터 받은 카드 정보에 대한 토큰만 가지고 결제를 진행한다. 둘째로 결제 시 NFC 단말에 전송하는 것은 카드 정보가 아니라 다이나믹 코드를 활용한 일회성 사용 코드. 또한, Apple은 결제 시 트랜잭션에 대한 정보를 전혀 수집하지 않기 때문에 사용자가 어디에서 언제 무얼 샀는지에 대해서 전혀 모르도록 설계되었다고 한다. 덕분에 등록할 때를 제외하고 결제 시에는 어떠한 데이터 통신도 필요없다. 이에 대해서 통신없이 결제가 가능하기 때문에 분실 시 대책이 없다고도 생각할 수도 있는데 이에 대해서는 하단의 '보안' 문단에서 후술.\n",
    "\n",
    "해외판 삼성페이의 EMV 결제모드에서만 지원되는 것과는 달리 국내판 삼성페이에서는 반드시 데이터 통신을 통해야만 결제가 가능케 하도록 한 삼성 페이와는 차별화 된 부분.\n",
    "\n",
    "한국에서 사용하는 삼성 페이와 비교했을 때 가장 큰 단점은 NFC 통신만을 통해 결제를 하기 때문에 삼성 페이만큼의 호환성은 자랑할 수 없다. 이 문제는 RFID 비접촉 결제가 대중화된 유럽, 호주, 뉴질랜드, 캐나다 같은 곳에서는 별로 중요하지 않지만, 한국처럼 접촉식 IC 방식만 보급화한 곳에서는 Apple Pay를 모든 곳에서 쓸 수 없다. Apple Pay를 사용할 수 있는 단말기의 유형은 여기에서 확인할 수 있다.\"\"\".split(\" \")\n",
    "\n",
    "cnt = 0\n",
    "for token in s:\n",
    "\n",
    "    if token.startswith('iPhone'):\n",
    "        cnt +=1\n",
    "        print('현재토큰:', token, cnt)\n",
    "print('\\n 총 iphone의 출현 횟수', cnt)"
   ]
  },
  {
   "cell_type": "code",
   "execution_count": null,
   "metadata": {},
   "outputs": [],
   "source": [
    "i = 1000\n",
    "count = 1\n",
    "while i > 0:\n",
    "    print(('금오공대'),i,count)\n",
    "    count+=1\n",
    "    i += -10\n",
    "print(str(count),'번 반복함.')"
   ]
  },
  {
   "cell_type": "code",
   "execution_count": null,
   "metadata": {},
   "outputs": [],
   "source": [
    "import random\n",
    "import time\n",
    "i = 0\n",
    "p = 0\n",
    "while True:\n",
    "    a = random.randint(1,100)\n",
    "    p +=1\n",
    "    print(str(a),str(p),\"번 시도\")\n",
    "    time.sleep(0.1)\n",
    "    if a ==6:\n",
    "        break\n",
    "    \n",
    "    \n"
   ]
  },
  {
   "cell_type": "code",
   "execution_count": null,
   "metadata": {},
   "outputs": [],
   "source": [
    "for i in range (1000):\n",
    "    if i % 100 == 0:\n",
    "        continue\n",
    "    print(i)"
   ]
  },
  {
   "cell_type": "code",
   "execution_count": null,
   "metadata": {},
   "outputs": [],
   "source": [
    "i = 0\n",
    "while i < 100:\n",
    "    i += 1\n",
    "    if i % 2 == 0:\n",
    "        continue\n",
    "    print(i)\n",
    "    "
   ]
  },
  {
   "cell_type": "code",
   "execution_count": null,
   "metadata": {},
   "outputs": [],
   "source": [
    "for i in range(100):\n",
    "    if i % 2 ==0:\n",
    "        continue\n",
    "    print(i)\n",
    "    "
   ]
  },
  {
   "cell_type": "code",
   "execution_count": null,
   "metadata": {},
   "outputs": [],
   "source": [
    "a = [1,2,3,4,5,6,7,8,9,10]\n",
    "print(a)"
   ]
  },
  {
   "cell_type": "code",
   "execution_count": null,
   "metadata": {},
   "outputs": [],
   "source": [
    "b =[1,2,3,4,5,4,5,3,5,7,4,7,8,34,'가나다라',6,7]\n",
    "b"
   ]
  },
  {
   "cell_type": "code",
   "execution_count": null,
   "metadata": {},
   "outputs": [],
   "source": [
    "for k in b:\n",
    "    print(k)"
   ]
  },
  {
   "cell_type": "code",
   "execution_count": null,
   "metadata": {},
   "outputs": [],
   "source": []
  },
  {
   "cell_type": "code",
   "execution_count": null,
   "metadata": {},
   "outputs": [],
   "source": [
    "x = []\n",
    "y = list()"
   ]
  },
  {
   "cell_type": "code",
   "execution_count": null,
   "metadata": {},
   "outputs": [],
   "source": [
    "for k in a:\n",
    "    x.append(k)\n",
    "x"
   ]
  },
  {
   "cell_type": "code",
   "execution_count": null,
   "metadata": {},
   "outputs": [],
   "source": [
    "k = list(range(-5,5,1))\n",
    "k"
   ]
  },
  {
   "cell_type": "code",
   "execution_count": null,
   "metadata": {},
   "outputs": [],
   "source": [
    "l = [tuple(range(1,65))]\n",
    "l"
   ]
  },
  {
   "cell_type": "code",
   "execution_count": null,
   "metadata": {},
   "outputs": [],
   "source": [
    "a = [0,10,20,30,40,50,60,70,80,90]\n",
    "30 in a"
   ]
  },
  {
   "cell_type": "code",
   "execution_count": null,
   "metadata": {},
   "outputs": [],
   "source": [
    "a = [1,2,3,4,5,6,7,8]\n",
    "b = [9,34,34,45,56,678,789,23]\n",
    "a+b"
   ]
  },
  {
   "cell_type": "code",
   "execution_count": null,
   "metadata": {},
   "outputs": [],
   "source": [
    "len('hello world')"
   ]
  },
  {
   "cell_type": "code",
   "execution_count": null,
   "metadata": {},
   "outputs": [],
   "source": [
    "print(a[-2])\n",
    "print(b[-8])"
   ]
  },
  {
   "cell_type": "code",
   "execution_count": null,
   "metadata": {},
   "outputs": [],
   "source": [
    "\n",
    "for i in range(-6,-1,1):\n",
    "    print(a[i])\n",
    "\n"
   ]
  },
  {
   "cell_type": "code",
   "execution_count": null,
   "metadata": {},
   "outputs": [],
   "source": [
    "hello = 'hello i am iphone 14 pro'"
   ]
  },
  {
   "cell_type": "code",
   "execution_count": null,
   "metadata": {},
   "outputs": [],
   "source": [
    "for i in range(-1,-len(hello)-1,-1):\n",
    "    print(hello[i])\n",
    "\n"
   ]
  },
  {
   "cell_type": "code",
   "execution_count": null,
   "metadata": {},
   "outputs": [],
   "source": [
    "news = \"\"\"The U.S. Commerce Department announced Tuesday that it will limit recipients of Chips and Science Act funding from investing in the expansion of semiconductor manufacturing in the \"foreign countries of concern\" including China and Russia. But the limit was not an outright ban on investment in China since the department allows the recipient firms to expand production capacity by 5 percent for advanced chips and 10 percent for those made with relatively old manufacturing processes.\"\"\""
   ]
  },
  {
   "cell_type": "code",
   "execution_count": null,
   "metadata": {},
   "outputs": [],
   "source": [
    "for i in range(len(news))[:100]:\n",
    "    print(news[i])"
   ]
  },
  {
   "cell_type": "code",
   "execution_count": null,
   "metadata": {},
   "outputs": [],
   "source": [
    "a = [0,0,0,0,0]\n",
    "a[0] =38\n",
    "a[1] =39\n",
    "a[2] =40"
   ]
  },
  {
   "cell_type": "code",
   "execution_count": null,
   "metadata": {},
   "outputs": [],
   "source": [
    "a"
   ]
  },
  {
   "cell_type": "code",
   "execution_count": null,
   "metadata": {},
   "outputs": [],
   "source": [
    "c = []\n",
    "c =a[0:5]"
   ]
  },
  {
   "cell_type": "code",
   "execution_count": null,
   "metadata": {},
   "outputs": [],
   "source": [
    "i = 0\n",
    "g = [0,0,0,0,0,0,0,0,0,0]\n",
    "for i in range(0,10):\n",
    "    g[i] = input('아무거나 입력해주세요')\n",
    "print(g)\n",
    "g [3:5] = '가'\n",
    "print(g)\n",
    "\n",
    "\n"
   ]
  },
  {
   "cell_type": "code",
   "execution_count": null,
   "metadata": {},
   "outputs": [],
   "source": [
    "my_list = [1,2,3,4,5]\n",
    "my_tuple = (1,2,3,4,5)"
   ]
  },
  {
   "cell_type": "code",
   "execution_count": null,
   "metadata": {},
   "outputs": [],
   "source": [
    "my_list[5:7] = 6,7,8\n",
    "my_list"
   ]
  },
  {
   "cell_type": "code",
   "execution_count": null,
   "metadata": {},
   "outputs": [],
   "source": [
    "tuple1 = (1,2,3)\n",
    "tuple2 = (4,5,6)\n",
    "combined_tuple = tuple1 + tuple2\n",
    "sliced_tuple = combined_tuple[1:4]\n",
    "sliced_tuple"
   ]
  },
  {
   "cell_type": "code",
   "execution_count": null,
   "metadata": {},
   "outputs": [],
   "source": [
    "even_numbers = [x for x in range(10) if x % 2 == 0]\n",
    "even_numbers"
   ]
  },
  {
   "cell_type": "code",
   "execution_count": null,
   "metadata": {},
   "outputs": [],
   "source": [
    "my_tuple = (3,54,67,45,2,5,90)\n",
    "max_value = max(my_tuple)\n",
    "min_value = min(my_tuple)\n",
    "print(max_value)\n",
    "print(min_value)"
   ]
  },
  {
   "cell_type": "code",
   "execution_count": null,
   "metadata": {},
   "outputs": [],
   "source": [
    "my_list = [1,2,3,4,5]\n",
    "unique_list = list(set(my_list))\n",
    "unique_list"
   ]
  },
  {
   "cell_type": "code",
   "execution_count": null,
   "metadata": {},
   "outputs": [],
   "source": [
    "unique_tuple = tuple(unique_list)\n",
    "unique_tuple"
   ]
  },
  {
   "cell_type": "code",
   "execution_count": null,
   "metadata": {},
   "outputs": [],
   "source": [
    "a,b,c,d,e = unique_tuple\n",
    "a,b,c,d,e"
   ]
  },
  {
   "cell_type": "code",
   "execution_count": null,
   "metadata": {},
   "outputs": [],
   "source": [
    "a = [10,20,30]\n",
    "a.insert(2,500)\n",
    "a"
   ]
  },
  {
   "cell_type": "code",
   "execution_count": null,
   "metadata": {},
   "outputs": [],
   "source": [
    "b = [1,2,3,4,5,6,7]\n",
    "b.extend([1,10])\n",
    "b"
   ]
  },
  {
   "cell_type": "code",
   "execution_count": null,
   "metadata": {},
   "outputs": [],
   "source": [
    "b.pop()\n",
    "b\n",
    "#이거는 무조건 낸다고 함 주의!\n",
    "#del = pop\n"
   ]
  },
  {
   "cell_type": "code",
   "execution_count": null,
   "metadata": {},
   "outputs": [],
   "source": [
    "a = [10,20,30,40,50,60,70,80,90,100]\n",
    "a.remove(20)#맨 앞에있는 20 삭제\n"
   ]
  },
  {
   "cell_type": "code",
   "execution_count": null,
   "metadata": {},
   "outputs": [],
   "source": [
    "d = [120,20,20,20,20,20,20,20,20,20,20,20,20,100,102,20,204,23034,45,64506,56]\n",
    "d.count(20)"
   ]
  },
  {
   "cell_type": "code",
   "execution_count": null,
   "metadata": {},
   "outputs": [],
   "source": [
    "a.reverse()#반대로 뒤집음\n",
    "a.sort()#오름차순 정렬\n",
    "a.sort(reverse=True)#내림차순\n",
    "a.clear()#리스트 비우기\n",
    "del a [:]#모두지우기"
   ]
  },
  {
   "cell_type": "code",
   "execution_count": null,
   "metadata": {},
   "outputs": [],
   "source": [
    "a= [10,20,30,]\n",
    "a[len(a):]=[500,600]\n",
    "a"
   ]
  },
  {
   "cell_type": "code",
   "execution_count": null,
   "metadata": {},
   "outputs": [],
   "source": [
    "a = [0,0,0,0,0,0]\n",
    "b = a.copy()"
   ]
  },
  {
   "cell_type": "code",
   "execution_count": null,
   "metadata": {},
   "outputs": [],
   "source": [
    "b"
   ]
  },
  {
   "cell_type": "code",
   "execution_count": null,
   "metadata": {},
   "outputs": [],
   "source": [
    "a is b"
   ]
  },
  {
   "cell_type": "code",
   "execution_count": null,
   "metadata": {},
   "outputs": [],
   "source": [
    "a ==b"
   ]
  },
  {
   "cell_type": "code",
   "execution_count": null,
   "metadata": {},
   "outputs": [],
   "source": [
    "b[2] = 99\n",
    "a"
   ]
  },
  {
   "cell_type": "code",
   "execution_count": null,
   "metadata": {},
   "outputs": [],
   "source": [
    "b"
   ]
  },
  {
   "cell_type": "code",
   "execution_count": null,
   "metadata": {},
   "outputs": [],
   "source": [
    "a=b.copy()#이것도 시험!"
   ]
  },
  {
   "cell_type": "code",
   "execution_count": null,
   "metadata": {},
   "outputs": [],
   "source": [
    "\n",
    "for i in a:\n",
    "    print(i)"
   ]
  },
  {
   "cell_type": "code",
   "execution_count": null,
   "metadata": {},
   "outputs": [],
   "source": [
    "a = [38,21,53,62,19]\n",
    "i = 0\n",
    "while i < len(a):\n",
    "    print(a[i])\n",
    "    i+= 1"
   ]
  },
  {
   "cell_type": "code",
   "execution_count": null,
   "metadata": {},
   "outputs": [],
   "source": [
    "a = [38,21,53,62,19]\n",
    "i = 0\n",
    "while i <= len(a):\n",
    "    print(a[i])\n",
    "    i+= 1"
   ]
  },
  {
   "cell_type": "code",
   "execution_count": null,
   "metadata": {},
   "outputs": [],
   "source": [
    "a = [38,21,53,62,19]\n",
    "smallest = a[0]\n",
    "for i in a:\n",
    "    if i < smallest:\n",
    "        smallest = i\n",
    "        print(smallest)\n",
    "smallest"
   ]
  },
  {
   "cell_type": "code",
   "execution_count": null,
   "metadata": {},
   "outputs": [],
   "source": [
    "a = [38,21,53,62,19]\n",
    "a.sort(reverse=True)\n",
    "a[0]"
   ]
  },
  {
   "cell_type": "code",
   "execution_count": null,
   "metadata": {},
   "outputs": [],
   "source": [
    "a = [i for i in ()]\n",
    "b = list(i for i in range(1,21,2))\n",
    "b\n",
    "\n"
   ]
  },
  {
   "cell_type": "code",
   "execution_count": null,
   "metadata": {},
   "outputs": [],
   "source": [
    "a = [j *i for j in range(2,10) for i in range(1,10)]\n",
    "a"
   ]
  },
  {
   "cell_type": "code",
   "execution_count": 4,
   "metadata": {},
   "outputs": [
    {
     "data": {
      "text/plain": [
       "[1, 2, 4, 6, 8]"
      ]
     },
     "execution_count": 4,
     "metadata": {},
     "output_type": "execute_result"
    }
   ],
   "source": [
    "a = [1.2,2.5,4.5,6.7,8.9]\n",
    "for i in range(len(a)):\n",
    "    a[i] = int(a[i])\n",
    "a"
   ]
  },
  {
   "cell_type": "code",
   "execution_count": 6,
   "metadata": {},
   "outputs": [
    {
     "data": {
      "text/plain": [
       "[1, 2, 4, 6, 8]"
      ]
     },
     "execution_count": 6,
     "metadata": {},
     "output_type": "execute_result"
    }
   ],
   "source": [
    "a = [1.2,2.5,4.5,6.7,8.9]\n",
    "a = list(map(int,a))\n",
    "a"
   ]
  },
  {
   "cell_type": "code",
   "execution_count": 8,
   "metadata": {},
   "outputs": [],
   "source": [
    "a = input().split()\n"
   ]
  },
  {
   "cell_type": "code",
   "execution_count": 11,
   "metadata": {},
   "outputs": [
    {
     "data": {
      "text/plain": [
       "<map at 0x20f3a764790>"
      ]
     },
     "execution_count": 11,
     "metadata": {},
     "output_type": "execute_result"
    }
   ],
   "source": [
    "c =  map(int, input().split())\n",
    "c"
   ]
  },
  {
   "cell_type": "code",
   "execution_count": 12,
   "metadata": {},
   "outputs": [],
   "source": [
    "x = input().split()"
   ]
  },
  {
   "cell_type": "code",
   "execution_count": 13,
   "metadata": {},
   "outputs": [],
   "source": [
    "m = map(int, x)\n",
    "a,b,c = m"
   ]
  },
  {
   "cell_type": "code",
   "execution_count": 14,
   "metadata": {},
   "outputs": [
    {
     "data": {
      "text/plain": [
       "<map at 0x20f3a9d3310>"
      ]
     },
     "execution_count": 14,
     "metadata": {},
     "output_type": "execute_result"
    }
   ],
   "source": [
    "m"
   ]
  },
  {
   "cell_type": "code",
   "execution_count": 15,
   "metadata": {},
   "outputs": [
    {
     "data": {
      "text/plain": [
       "(3, 5, 10)"
      ]
     },
     "execution_count": 15,
     "metadata": {},
     "output_type": "execute_result"
    }
   ],
   "source": [
    "a,b,c"
   ]
  },
  {
   "cell_type": "code",
   "execution_count": 16,
   "metadata": {},
   "outputs": [
    {
     "data": {
      "text/plain": [
       "(1, 2, 3, 4)"
      ]
     },
     "execution_count": 16,
     "metadata": {},
     "output_type": "execute_result"
    }
   ],
   "source": [
    "a = (1.2,2.5,3.7,4.6)\n",
    "a = tuple(map(int,a))\n",
    ",,a"
   ]
  },
  {
   "cell_type": "code",
   "execution_count": 17,
   "metadata": {},
   "outputs": [],
   "source": [
    "cities = ['new york','los angeles','chicago','houston','phoneix']\n",
    "populations = [8405837, 3884307, 2718782, 2195914, 1513367]"
   ]
  },
  {
   "cell_type": "code",
   "execution_count": 32,
   "metadata": {},
   "outputs": [
    {
     "name": "stdout",
     "output_type": "stream",
     "text": [
      "new york 8405837\n",
      "los angeles 3884307\n",
      "chicago 2718782\n",
      "houston 2195914\n",
      "phoneix 1513367\n"
     ]
    }
   ],
   "source": [
    "cities = ['new york','los angeles','chicago','houston','phoneix']\n",
    "populations = [8405837, 3884307, 2718782, 2195914, 1513367]\n",
    "for cities,populations in zip(cities, populations):\n",
    "    print(cities,populations)\n",
    "sorted_city = sorted(cities)"
   ]
  },
  {
   "cell_type": "code",
   "execution_count": 25,
   "metadata": {},
   "outputs": [
    {
     "ename": "TypeError",
     "evalue": "'int' object is not iterable",
     "output_type": "error",
     "traceback": [
      "\u001b[1;31m---------------------------------------------------------------------------\u001b[0m",
      "\u001b[1;31mTypeError\u001b[0m                                 Traceback (most recent call last)",
      "Cell \u001b[1;32mIn[25], line 1\u001b[0m\n\u001b[1;32m----> 1\u001b[0m \u001b[39mfor\u001b[39;00m cities, populations \u001b[39min\u001b[39;00m \u001b[39mzip\u001b[39;49m(cities, populations):\n\u001b[0;32m      2\u001b[0m     \u001b[39mprint\u001b[39m(\u001b[39mf\u001b[39m\u001b[39m'\u001b[39m\u001b[39mcities\u001b[39m\u001b[39m'\u001b[39m\u001b[39mf\u001b[39m\u001b[39m'\u001b[39m\u001b[39mpopulations\u001b[39m\u001b[39m'\u001b[39m)\n",
      "\u001b[1;31mTypeError\u001b[0m: 'int' object is not iterable"
     ]
    }
   ],
   "source": [
    "for cities, populations in zip(cities, populations):\n",
    "    print(f'cities'f'populations')"
   ]
  },
  {
   "cell_type": "code",
   "execution_count": 33,
   "metadata": {},
   "outputs": [
    {
     "ename": "TypeError",
     "evalue": "'int' object is not subscriptable",
     "output_type": "error",
     "traceback": [
      "\u001b[1;31m---------------------------------------------------------------------------\u001b[0m",
      "\u001b[1;31mTypeError\u001b[0m                                 Traceback (most recent call last)",
      "Cell \u001b[1;32mIn[33], line 3\u001b[0m\n\u001b[0;32m      1\u001b[0m \u001b[39mfor\u001b[39;00m i \u001b[39min\u001b[39;00m \u001b[39mrange\u001b[39m(\u001b[39mlen\u001b[39m(sorted_city)):\n\u001b[0;32m      2\u001b[0m     p_index \u001b[39m=\u001b[39m cities\u001b[39m.\u001b[39mindex(sorted_city[i])\n\u001b[1;32m----> 3\u001b[0m     \u001b[39mprint\u001b[39m(\u001b[39m'\u001b[39m\u001b[39m도시\u001b[39m\u001b[39m'\u001b[39m,sorted_city[i],\u001b[39m'\u001b[39m\u001b[39m인구수\u001b[39m\u001b[39m'\u001b[39m,populations[p_index])\n",
      "\u001b[1;31mTypeError\u001b[0m: 'int' object is not subscriptable"
     ]
    }
   ],
   "source": [
    "for i in range(len(sorted_city)):\n",
    "    p_index = cities.index(sorted_city[i])\n",
    "    print('도시',sorted_city[i],'인구수',populations[p_index])"
   ]
  },
  {
   "cell_type": "code",
   "execution_count": 34,
   "metadata": {},
   "outputs": [
    {
     "name": "stdout",
     "output_type": "stream",
     "text": [
      "단어개수: 9\n"
     ]
    }
   ],
   "source": [
    "text = 'The quick brown for jumps over the lazy dog'\n",
    "words = text.split()\n",
    "word_counts = len(words)\n",
    "\n",
    "print(f'단어개수: {word_counts}')"
   ]
  },
  {
   "cell_type": "code",
   "execution_count": 38,
   "metadata": {},
   "outputs": [
    {
     "data": {
      "text/plain": [
       "['brown', 'The', 'over', 'jumps', 'dog', 'for', 'the', 'lazy', 'quick']"
      ]
     },
     "execution_count": 38,
     "metadata": {},
     "output_type": "execute_result"
    }
   ],
   "source": [
    "unique_words_list = list(set(words))\n",
    "unique_words_list"
   ]
  },
  {
   "cell_type": "code",
   "execution_count": 49,
   "metadata": {},
   "outputs": [
    {
     "name": "stdout",
     "output_type": "stream",
     "text": [
      "단어 : brown 개수 : \n",
      "단어 : The 개수 : \n",
      "단어 : over 개수 : \n",
      "단어 : jumps 개수 : \n",
      "단어 : dog 개수 : \n",
      "단어 : for 개수 : \n",
      "단어 : the 개수 : \n",
      "단어 : lazy 개수 : \n",
      "단어 : quick 개수 : \n"
     ]
    }
   ],
   "source": [
    "\n",
    "for word in unique_words_list:\n",
    "    words.count(unique_words_list)\n",
    "    print('단어 :', word, \"개수 : \",)"
   ]
  }
 ],
 "metadata": {
  "kernelspec": {
   "display_name": "Python 3",
   "language": "python",
   "name": "python3"
  },
  "language_info": {
   "codemirror_mode": {
    "name": "ipython",
    "version": 3
   },
   "file_extension": ".py",
   "mimetype": "text/x-python",
   "name": "python",
   "nbconvert_exporter": "python",
   "pygments_lexer": "ipython3",
   "version": "3.11.2"
  },
  "orig_nbformat": 4,
  "vscode": {
   "interpreter": {
    "hash": "3f936bfd9b02cb7a047473eb760f71c8d5dc6adb4407af3a88baefb5408127cf"
   }
  }
 },
 "nbformat": 4,
 "nbformat_minor": 2
}
