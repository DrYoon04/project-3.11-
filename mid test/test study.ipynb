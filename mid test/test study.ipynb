{
 "cells": [
  {
   "attachments": {},
   "cell_type": "markdown",
   "metadata": {},
   "source": [
    "#### 들여쓰기\n",
    "파이썬은 들여쓰기자체가 문법   \n",
    "따라서 일정한 간격으로 들여쓰기를 해야함 간격의 크기는 상관없음   \n",
    "EX) for, while, if 등은 다음줄에서 무조건 들여쓰기를 해야함   "
   ]
  },
  {
   "cell_type": "code",
   "execution_count": 13,
   "metadata": {},
   "outputs": [
    {
     "name": "stdout",
     "output_type": "stream",
     "text": [
      "00\n",
      "00\n"
     ]
    }
   ],
   "source": [
    "for i in range(1,3,1):\n",
    "    print('00')#이런식으로 들여쓰기를 해야함. 평균적으로 띄어쓰기 4칸 정도를 들여쓰기로 사용\n"
   ]
  },
  {
   "attachments": {},
   "cell_type": "markdown",
   "metadata": {},
   "source": [
    "#### 숫자계산하기 \n",
    "파이썬에서 숫자는 정수(**int**) 실수(**float**) 복소수(**complex**)로 구분됨.\n",
    "파이썬에서 자료형에 따라 결과가 달라질 수 있으므로 정확하게 구분할 필요가 있음.\n",
    "*****\n",
    "#### 나눗샘 후 소수점 이하를 버리는 연산자 **//**\n",
    "1/3을 하면 0.3333333 이지만\n",
    "1//3을 하면 0\n",
    "*****\n",
    "#### 나눗셈 후 나머지를 구하는 연산자(%)\n",
    "5%2를 하면 1"
   ]
  },
  {
   "cell_type": "code",
   "execution_count": 14,
   "metadata": {},
   "outputs": [
    {
     "name": "stdout",
     "output_type": "stream",
     "text": [
      "2\n",
      "5\n",
      "4\n",
      "0.3333333333333333\n",
      "0\n",
      "1\n"
     ]
    }
   ],
   "source": [
    "# ex)사칙연산 예시\n",
    "print(1+1)#더하기\n",
    "print(9-4)#뺴기\n",
    "print(2*2)#곱하기\n",
    "print(1/3)#그냥 나누기(/)\n",
    "print(1//3)#소수점을 버리는 연산자(//)\n",
    "print(5%2)#나눗셈 후 나머지를 구하는 연산자(%)\n",
    "\n"
   ]
  },
  {
   "attachments": {},
   "cell_type": "markdown",
   "metadata": {},
   "source": [
    "#### 거듭제곱을 구하는 ** 연산자\n",
    "    거듭제곱 계산하는 방법"
   ]
  },
  {
   "cell_type": "code",
   "execution_count": 35,
   "metadata": {},
   "outputs": [
    {
     "name": "stdout",
     "output_type": "stream",
     "text": [
      "1024\n",
      "1024\n"
     ]
    }
   ],
   "source": [
    "print(2**10)#프린트 문안에 바로 넣어도 됨\n",
    "a = (2**10) #변수에 직접 정의 해도 됨\n",
    "print(a)\n"
   ]
  },
  {
   "attachments": {},
   "cell_type": "markdown",
   "metadata": {},
   "source": [
    "#### 자료형 지정하기\n",
    "파이썬은 기본적으로 자료형을 알맞게 지정하지만 .split() 같은것을 썻을때 자료형을 지정해줘야 할때도 있음.\n",
    "**int, float, str**()안에 숫자 또는 계산식을 넣으면 됨   \n",
    "    **int, float, str(숫자)**   \n",
    "    **int, float, str(계산식)**   \n",
    "    **int, float, str('문자열')**"
   ]
  },
  {
   "cell_type": "code",
   "execution_count": 36,
   "metadata": {},
   "outputs": [
    {
     "name": "stdout",
     "output_type": "stream",
     "text": [
      "3\n",
      "6\n",
      "10\n"
     ]
    }
   ],
   "source": [
    "#ex\n",
    "print(int(3.3))\n",
    "print(int(9*7/10))\n",
    "print(int('10'))"
   ]
  },
  {
   "attachments": {},
   "cell_type": "markdown",
   "metadata": {},
   "source": [
    "### boolean(불)과 비교, 논리 연산자\n",
    "    비교 연산자\n",
    "결과는 True, False로 출력\n",
    "부등호 **<=, >=, <, >**, **==** 같은지 비교, **!=** 다른지 비교\n",
    "문자도 비교가능 단, 단어가 같아도 대소문자를 구분함\n",
    "\n",
    "---\n",
    "    논리 연산자\n",
    "논리 연산자는 and, or, not이 있음\n",
    "이산수학 참고\n",
    "괄호로 판단 순서를 구분해줄수 있음\n",
    "\n",
    "---\n",
    "비교 연산자와 논리 연산자가 같이 있을경우 비교 연산자가 우선임"
   ]
  },
  {
   "cell_type": "code",
   "execution_count": 81,
   "metadata": {},
   "outputs": [
    {
     "name": "stdout",
     "output_type": "stream",
     "text": [
      "True\n",
      "False\n",
      "True\n"
     ]
    }
   ],
   "source": [
    "print(3<5)\n",
    "print('python'=='Python')\n",
    "print(3!=5)"
   ]
  },
  {
   "attachments": {},
   "cell_type": "markdown",
   "metadata": {},
   "source": [
    "### 리스트 와 튜플\n",
    "리스트는 수정이 <font color=\"yellow\">가능</font> 하지만 튜플은 수정이 <font color=\"yellow\">불가능</font>   \n",
    "리스트는 <font color=\"yellow\">[ ]</font> 대괄호를 이용하여 만들고 튜플은 <font color=\"yellow\">( )</font> 소괄호를 이용하여 만듬.   \n",
    "리스트와 튜플을 <font color=\"yellow\">시퀀스</font> 자료형이라고 하기도 함.\n",
    "\n",
    "---\n",
    "\n",
    "리스트와 튜플 문자열, 정수, 실수, 불등 모든 자료형 저장가능 또한, 자료형을 섞어서 저장할수도 있음.\n"
   ]
  },
  {
   "cell_type": "code",
   "execution_count": 48,
   "metadata": {},
   "outputs": [],
   "source": [
    "#리스트\n",
    "a = []\n",
    "b = list()\n",
    "a = [1,'문자열',2.5]\n",
    "#튜플\n",
    "c = ()\n",
    "d = tuple()\n",
    "c = (1,'문자열',2.5)"
   ]
  },
  {
   "attachments": {},
   "cell_type": "markdown",
   "metadata": {},
   "source": [
    "### 리스트, 튜플 에 요소 넣는 방법\n",
    "일반적으로는 a = [1,2,3,4]으로 넣을수 있음   \n",
    "주의 할점 : a = list(1,2,3,4,5)는 안됨\n",
    "\n",
    "---\n",
    "\n",
    "    range를 이용하여 넣는 방법   \n",
    "<font color=\"yellow\">a = list(range(10))</font>로 무조건 작성해야함\n",
    "a = [range(10)]로 쓰면 아래 결과 처럼 출력됨\n",
    "\n",
    "---\n",
    "    range() 사용법   \n",
    "range() 는 괄호안에 숫자를 넣어 조건을 줄수 있음   \n",
    "range(숫자)로 적을시 0부터 (숫자)게수 만큼 숫자를 생성\n",
    "range(시작숫자, 끝숫자)로 작성시 끝숫자는 포함하지 않고 숫자를 생성   \n",
    "range(시작숫자, 끝숫자, 증가폭)로 작성시 지정한 증가폭 많큼 증가하면서 숫자를 생성   \n",
    "\n",
    "---\n",
    "\n",
    "\n",
    "    튜플도 이와 같은 방식으로 만들수 있음.\n",
    "\n"
   ]
  },
  {
   "cell_type": "code",
   "execution_count": 47,
   "metadata": {},
   "outputs": [
    {
     "name": "stdout",
     "output_type": "stream",
     "text": [
      "[0, 1, 2, 3, 4, 5, 6, 7, 8, 9]\n",
      "[range(0, 10)]\n",
      "[0, 1, 2, 3, 4]\n",
      "[1, 2, 3, 4]\n",
      "[8, 6, 4, 2]\n"
     ]
    }
   ],
   "source": [
    "a = list(range(10))\n",
    "b = [range(10)]\n",
    "print(a)\n",
    "print(b)\n",
    "#-------------------------------------------------------\n",
    "a = list(range(5))\n",
    "b = list(range(1,5))\n",
    "c = list(range(8,0,-2))#감소하는 range 사용시 앞에 큰수가 들어가야함\n",
    "print(a)\n",
    "print(b)\n",
    "print(c)"
   ]
  },
  {
   "attachments": {},
   "cell_type": "markdown",
   "metadata": {},
   "source": [
    "### 인덱스\n",
    "리스트나 튜플의 요소를 가져오는 방법은\n",
    "변수명[인덱스번호]로 가져올 수 있음\n",
    "인덱스 세는법 : 0부터 셈. 즉 아래 예시에서 1은 0번임"
   ]
  },
  {
   "cell_type": "code",
   "execution_count": 72,
   "metadata": {},
   "outputs": [
    {
     "name": "stdout",
     "output_type": "stream",
     "text": [
      "1\n",
      "6\n"
     ]
    }
   ],
   "source": [
    "a =[1,2,3,4,5,6,7]\n",
    "print(a[0])\n",
    "print(a[5])"
   ]
  },
  {
   "attachments": {},
   "cell_type": "markdown",
   "metadata": {},
   "source": [
    "#### 음의 인덱스\n",
    "인덱스를 반대로 샘"
   ]
  },
  {
   "cell_type": "code",
   "execution_count": 41,
   "metadata": {},
   "outputs": [
    {
     "name": "stdout",
     "output_type": "stream",
     "text": [
      "[0, 1, 2, 3, 4, 5, 6, 7, 8, 9]\n",
      "인덱스 번호 : 0 일때 :  0\n",
      "인덱스 번호 : -1 일때 :  9\n",
      "인덱스 번호 : -2 일때 :  8\n",
      "인덱스 번호 : -3 일때 :  7\n",
      "인덱스 번호 : -4 일때 :  6\n",
      "인덱스 번호 : -5 일때 :  5\n",
      "인덱스 번호 : -6 일때 :  4\n",
      "인덱스 번호 : -7 일때 :  3\n",
      "인덱스 번호 : -8 일때 :  2\n",
      "인덱스 번호 : -9 일때 :  1\n"
     ]
    }
   ],
   "source": [
    "a = list(range(10)) #0부터 9까지(총 10개)의 리스트 생성\n",
    "print(a) #리스트 출력\n",
    "\n",
    "\n",
    "\n",
    "for i in range(0,-10,-1): #음의 인덱스를 출력 해보는 for 문\n",
    "#(0부터 -9까지 -1씩 더하여 i 에 집어넣음)\n",
    "    print(f'인덱스 번호 : {i} 일때 : ',a[i] ,sep=' ')"
   ]
  },
  {
   "attachments": {},
   "cell_type": "markdown",
   "metadata": {},
   "source": [
    "    \n",
    "리스트를 출력해보면 인덱스 0번에 할당되어 있는 0은 움직이지 않고 -1을 하면 9, -2는 8 이런식으로 반대로 출력되는 것을 알수 있음"
   ]
  },
  {
   "attachments": {},
   "cell_type": "markdown",
   "metadata": {},
   "source": [
    "### 함수\n",
    "    시퀀스 객체의 요소 개수 구하기   \n",
    "len(시퀀스 객체)\n",
    "\n",
    "---\n",
    "\n",
    "    len()의 사용법   \n",
    "len('문자열') 하면 문자열 길이를 구할수 있음(공백 포함) 문자열을 묶는 따옴표는 포함하지 않음   \n",
    "단 문자열 안의 따옴표는 포함됨\n",
    "\n",
    "---\n",
    "\n",
    "문자열 적을때 주의 할 점   \n",
    "    따옴표로 묶되 큰따옴표로 묶었을시 안쪽은 작은 따옴표를 사용해야함. 그 반대도 가능   \n",
    "예시  : '금오공대 \"인공지능공학과\" 입니다'\n",
    "\n"
   ]
  },
  {
   "cell_type": "code",
   "execution_count": 53,
   "metadata": {},
   "outputs": [
    {
     "name": "stdout",
     "output_type": "stream",
     "text": [
      "10\n",
      "11\n"
     ]
    }
   ],
   "source": [
    "a  = list(range(10))\n",
    "print(len(a))\n",
    "hello = \"안 녕 '하' 세 요\"\n",
    "\n",
    "print(len(hello))"
   ]
  },
  {
   "attachments": {},
   "cell_type": "markdown",
   "metadata": {},
   "source": [
    "### 시퀀스 활용하기 2\n",
    "    리스트 요소 삭제하기\n",
    "del 리스트명[인덱스]\n",
    "\n"
   ]
  },
  {
   "cell_type": "code",
   "execution_count": 78,
   "metadata": {},
   "outputs": [
    {
     "name": "stdout",
     "output_type": "stream",
     "text": [
      "[1, 2, 3, 5, 6]\n"
     ]
    }
   ],
   "source": [
    "#del\n",
    "a = [1,2,3,4,5,6]\n",
    "del a[3]\n",
    "print(a)\n"
   ]
  },
  {
   "attachments": {},
   "cell_type": "markdown",
   "metadata": {},
   "source": [
    "#### 슬라이스\n",
    "    슬라이스 사용하기\n",
    "[ ]안에 들어가는 방식은 range와 비슷   \n",
    "시퀀스 객체[시작인덱스:끝인덱스:증가폭]   \n",
    "[1:6] 1 부터 5번째까지 잘라냄\n",
    "[6:] 6번쩨부터 끝까지 잘라냄   \n",
    "[:6] 처음부터 5번째 까지 잘라냄   \n",
    "[0:6:2] 0부터 5번쨰 까지 2의 간격마다 잘라냄   \n",
    "[:] 처음부터 끝까지 잘라냄\n",
    "이것 말고도 여러 조합으로 사용가능 함   \n",
    "아래 예시 참고   \n",
    "\n",
    "---\n",
    "튜플도 사용가능 함   "
   ]
  },
  {
   "cell_type": "code",
   "execution_count": 77,
   "metadata": {},
   "outputs": [
    {
     "name": "stdout",
     "output_type": "stream",
     "text": [
      "실행결과\n",
      "[1, 2, 3, 4, 5, 6, 7, 8, 9] 원래 리스트\n",
      "[4, 5, 6] a[3:6]\n",
      "[7, 8, 9] a[6:]\n",
      "[1, 2, 3, 4, 5, 6] a[:6]\n",
      "[1, 3, 5] a[0:6:2]\n",
      "[1, 2, 3, 4, 5, 6, 7, 8, 9]\n"
     ]
    }
   ],
   "source": [
    "a = [1,2,3,4,5,6,7,8,9]\n",
    "e = a[3:6]\n",
    "b = a[6:]\n",
    "c = a[:6]\n",
    "d = a[0:6:2]\n",
    "print('실행결과')\n",
    "print(a,'원래 리스트')\n",
    "print(e,'a[3:6]')\n",
    "print(b,'a[6:]')\n",
    "print(c,'a[:6]')\n",
    "print(d,'a[0:6:2]')\n",
    "print(a[:])"
   ]
  },
  {
   "cell_type": "code",
   "execution_count": null,
   "metadata": {},
   "outputs": [],
   "source": []
  }
 ],
 "metadata": {
  "kernelspec": {
   "display_name": "Python 3",
   "language": "python",
   "name": "python3"
  },
  "language_info": {
   "codemirror_mode": {
    "name": "ipython",
    "version": 3
   },
   "file_extension": ".py",
   "mimetype": "text/x-python",
   "name": "python",
   "nbconvert_exporter": "python",
   "pygments_lexer": "ipython3",
   "version": "3.11.2"
  },
  "orig_nbformat": 4
 },
 "nbformat": 4,
 "nbformat_minor": 2
}
