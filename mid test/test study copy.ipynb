{
 "cells": [
  {
   "attachments": {},
   "cell_type": "markdown",
   "metadata": {},
   "source": [
    "### 숫자계산하기 \n",
    "파이썬에서 숫자는 정수(**int**) 실수(**float**) 복소수(**complex**)로 구분됨.   \n",
    "파이썬에서 자료형에 따라 결과가 달라질 수 있으므로 정확하게 구분할 필요가 있음.\n",
    "*****\n",
    "### 나눗샘 후 소수점 이하를 버리는 연산자 **//**\n",
    "1/3을 하면 0.3333333 이지만\n",
    "1//3을 하면 0\n",
    "*****\n",
    "### 나눗셈 후 나머지를 구하는 연산자(%)\n",
    "5%2를 하면 1"
   ]
  },
  {
   "cell_type": "code",
   "execution_count": null,
   "metadata": {},
   "outputs": [],
   "source": [
    "# ex)사칙연산 예시\n",
    "print(1+1)#더하기\n",
    "print(9-4)#뺴기\n",
    "print(2*2)#곱하기\n",
    "print(1/3)#그냥 나누기(/)\n",
    "print(1//3)#소수점을 버리는 연산자(//)\n",
    "print(5%2)#나눗셈 후 나머지를 구하는 연산자(%)\n",
    "\n"
   ]
  },
  {
   "attachments": {},
   "cell_type": "markdown",
   "metadata": {},
   "source": [
    "### 거듭제곱을 구하는 ** 연산자\n",
    "    거듭제곱 계산하는 방법"
   ]
  },
  {
   "cell_type": "code",
   "execution_count": null,
   "metadata": {},
   "outputs": [],
   "source": [
    "print(2**10)#프린트 문안에 바로 넣어도 됨\n",
    "a = (2**10) #변수에 직접 정의 해도 됨\n",
    "print(a)\n"
   ]
  },
  {
   "attachments": {},
   "cell_type": "markdown",
   "metadata": {},
   "source": [
    "### boolean(불)과 비교, 논리 연산자\n",
    "    비교 연산자\n",
    "결과는 True, False로 출력\n",
    "부등호 **<=, >=, <, >**, **==** 같은지 비교, **!=** 다른지 비교\n",
    "문자도 비교가능 단, 단어가 같아도 대소문자를 구분함\n",
    "\n",
    "---\n",
    "    논리 연산자\n",
    "논리 연산자는 and, or, not이 있음   \n",
    "이산수학 참고   \n",
    "괄호로 판단 순서를 구분해줄수 있음\n",
    "\n",
    "---\n",
    "비교 연산자와 논리 연산자가 같이 있을경우 비교 연산자가 우선임"
   ]
  },
  {
   "cell_type": "code",
   "execution_count": null,
   "metadata": {},
   "outputs": [],
   "source": [
    "print(3<5)\n",
    "print('python'=='Python')\n",
    "print(3!=5)"
   ]
  },
  {
   "attachments": {},
   "cell_type": "markdown",
   "metadata": {},
   "source": [
    "### 리스트, 튜플 에 요소 넣는 방법\n",
    "일반적으로는 a = [1,2,3,4]으로 넣을수 있음   \n",
    "주의 할점 : a = list(1,2,3,4,5)는 안됨\n",
    "\n",
    "---\n",
    "\n",
    "    range를 이용하여 넣는 방법   \n",
    "<span style='background-color: #F7DDBE'>a = list(range(10))</span>로 무조건 작성해야함\n",
    "a = [range(10)]로 쓰면 아래 결과 처럼 출력됨\n",
    "\n",
    "---\n",
    "    range() 사용법   \n",
    "range() 는 괄호안에 숫자를 넣어 조건을 줄수 있음   \n",
    "range(숫자)로 적을시 0부터 (숫자)게수 만큼 숫자를 생성\n",
    "range(시작숫자, 끝숫자)로 작성시 끝숫자는 포함하지 않고 숫자를 생성   \n",
    "range(시작숫자, 끝숫자, 증가폭)로 작성시 지정한 증가폭 많큼 증가하면서 숫자를 생성   \n",
    "\n",
    "---\n",
    "\n",
    "\n",
    "    튜플도 이와 같은 방식으로 만들수 있음.\n",
    "\n"
   ]
  },
  {
   "cell_type": "code",
   "execution_count": null,
   "metadata": {},
   "outputs": [],
   "source": [
    "a = list(range(10))\n",
    "b = [range(10)]\n",
    "print(a)\n",
    "print(b)\n",
    "#-------------------------------------------------------\n",
    "a = list(range(5))\n",
    "b = list(range(1,5))\n",
    "c = list(range(8,0,-2))#감소하는 range 사용시 앞에 큰수가 들어가야함\n",
    "print(a)\n",
    "print(b)\n",
    "print(c)"
   ]
  },
  {
   "attachments": {},
   "cell_type": "markdown",
   "metadata": {},
   "source": [
    "### 인덱스\n",
    "리스트나 튜플의 요소를 가져오는 방법은   \n",
    "변수명[인덱스번호]로 가져올 수 있음   \n",
    "인덱스 세는법 : 0부터 셈. 즉 아래 예시에서 1은 0번임"
   ]
  },
  {
   "cell_type": "code",
   "execution_count": null,
   "metadata": {},
   "outputs": [],
   "source": [
    "a =[1,2,3,4,5,6,7]\n",
    "print(a[0])\n",
    "print(a[5])"
   ]
  },
  {
   "attachments": {},
   "cell_type": "markdown",
   "metadata": {},
   "source": [
    "#### 음의 인덱스\n",
    "인덱스를 반대로 샘"
   ]
  },
  {
   "cell_type": "code",
   "execution_count": null,
   "metadata": {},
   "outputs": [],
   "source": [
    "a = list(range(10)) #0부터 9까지(총 10개)의 리스트 생성\n",
    "print(a) #리스트 출력\n",
    "\n",
    "\n",
    "\n",
    "for i in range(0,-10,-1): #음의 인덱스를 출력 해보는 for 문\n",
    "#(0부터 -9까지 -1씩 더하여 i 에 집어넣음)\n",
    "    print(f'인덱스 번호 : {i} 일때 : ',a[i] ,sep=' ')"
   ]
  },
  {
   "attachments": {},
   "cell_type": "markdown",
   "metadata": {},
   "source": [
    "    \n",
    "리스트를 출력해보면 인덱스 0번에 할당되어 있는 0은 움직이지 않고 -1을 하면 9, -2는 8 이런식으로 반대로 출력되는 것을 알수 있음"
   ]
  },
  {
   "attachments": {},
   "cell_type": "markdown",
   "metadata": {},
   "source": [
    "### 함수 설명\n"
   ]
  },
  {
   "attachments": {},
   "cell_type": "markdown",
   "metadata": {},
   "source": [
    "\n",
    "    len\n",
    "시퀀스 객체의 요소 개수 구하기   \n",
    "len(시퀀스 객체)\n",
    "\n",
    "---\n",
    "\n",
    "    len()의 사용법   \n",
    "len('문자열') 하면 문자열 길이를 구할수 있음(공백 포함) 문자열을 묶는 따옴표는 포함하지 않음   \n",
    "단 문자열 안의 따옴표는 포함됨\n",
    "\n",
    "---\n",
    "\n",
    "문자열 적을때 주의 할 점   \n",
    "    따옴표로 묶되 큰따옴표로 묶었을시 안쪽은 작은 따옴표를 사용해야함. 그 반대도 가능   \n",
    "예시  : '금오공대 \"인공지능공학과\" 입니다'\n",
    "\n"
   ]
  },
  {
   "cell_type": "code",
   "execution_count": null,
   "metadata": {},
   "outputs": [],
   "source": [
    "a  = list(range(10))\n",
    "print(len(a))\n",
    "hello = \"안 녕 '하' 세 요\"\n",
    "\n",
    "print(len(hello))\n",
    "print('금오공대 \"인공지능공학과\" 입니다')\n",
    "print(\"금오공대 '인공지능공학과' 입니다\")"
   ]
  },
  {
   "attachments": {},
   "cell_type": "markdown",
   "metadata": {},
   "source": [
    "    pow\n",
    "pow(x,y)는 아래 x y위치에 숫자가 들어간다고 생각하면 된다.\n",
    "$$x^y\n",
    "계산된 값은 float로 반환"
   ]
  },
  {
   "cell_type": "code",
   "execution_count": null,
   "metadata": {},
   "outputs": [],
   "source": [
    "#ex\n",
    "import math\n",
    "a = math.pow(2,4)\n",
    "print(a)"
   ]
  },
  {
   "attachments": {},
   "cell_type": "markdown",
   "metadata": {},
   "source": [
    "    find\n",
    "사용법 find('찾고싶은 문자나 단어',시작위치, 끝위치)   \n",
    "가장 첫번째 나오는 문자의 위치가 나옴.   \n",
    "시작위치와 끝위치를 지정하여 찾을 위치를 바꿀수도 있음.\n",
    "\n",
    "---\n",
    "    find 와 index의 차이점\n",
    "find( )\n",
    "찾는 문자가 없는 경우에 <span style='background-color: #F7DDBE'>-1</span>을 출력한다.\n",
    "문자열을 찾을 수 있는 변수는 문자열만 사용이 가능하다.  리스트, 튜플, 딕셔너리 자료형에서는 find 함수를 사용할 수 없다. 만일 사용하게 되면 AttributeError 에러가 발생한다.\n",
    "index( )\n",
    "\n",
    "찾는 문자가 없는 경우에 ValueError 에러가 발생한다.\n",
    "\n",
    "문자열, 리스트, 튜플 자료형에서 사용 가능하고 딕셔너리 자료형에는 사용할 수 없어 AttributeError 에러가 발생한다."
   ]
  },
  {
   "cell_type": "code",
   "execution_count": null,
   "metadata": {},
   "outputs": [],
   "source": [
    "a = 'i have a apple.'\n",
    "a.find('a',4,6)"
   ]
  },
  {
   "attachments": {},
   "cell_type": "markdown",
   "metadata": {},
   "source": [
    "    append\n",
    "리스트 맨뒤에 요소를 추가함   \n",
    "a.append(넣고싶은거) \n",
    "숫자 문자열등 리스트에 들어가는 거 다들어감.     \n",
    "[1,2]를 넣으면 그대로 들어감.\n"
   ]
  },
  {
   "cell_type": "code",
   "execution_count": null,
   "metadata": {},
   "outputs": [],
   "source": [
    "a =[1,2,3]\n",
    "a.append([0,9])#리스트안에 리스트 넣기\n",
    "print(a)\n",
    "a.append(5)#5추가\n",
    "print(a)"
   ]
  },
  {
   "attachments": {},
   "cell_type": "markdown",
   "metadata": {},
   "source": [
    "    continue\n",
    "for문 이나 while과 같은 반복문에서 \n",
    "아래 코드를 실행하지 않고 건너뜀   \n"
   ]
  },
  {
   "cell_type": "code",
   "execution_count": null,
   "metadata": {},
   "outputs": [],
   "source": [
    "for i in range(10):       # 0부터 99까지 증가하면서 100번 반복\n",
    "    if i % 2 == 0:         # i를 2로 나누었을 때 나머지가 0면 짝수\n",
    "        continue           # 아래 코드를 실행하지 않고 건너뜀\n",
    "    print(i)"
   ]
  },
  {
   "cell_type": "markdown",
   "metadata": {},
   "source": [
    "---\n",
    "    break\n",
    "코드를 더이상 실행하지 않고 반복문을 빠져나옴"
   ]
  },
  {
   "cell_type": "code",
   "execution_count": null,
   "metadata": {},
   "outputs": [],
   "source": [
    "while True:\n",
    "    i = 0\n",
    "    if i ==10:\n",
    "        break\n",
    "    else:\n",
    "        i += 1\n",
    "        print(i)"
   ]
  },
  {
   "attachments": {},
   "cell_type": "markdown",
   "metadata": {},
   "source": [
    "    range"
   ]
  },
  {
   "attachments": {},
   "cell_type": "markdown",
   "metadata": {},
   "source": [
    "    for/while/if/if-else/if-elif"
   ]
  },
  {
   "attachments": {},
   "cell_type": "markdown",
   "metadata": {},
   "source": [
    "    split"
   ]
  },
  {
   "attachments": {},
   "cell_type": "markdown",
   "metadata": {},
   "source": [
    "    replace"
   ]
  },
  {
   "cell_type": "markdown",
   "metadata": {},
   "source": [
    "    remove"
   ]
  },
  {
   "attachments": {},
   "cell_type": "markdown",
   "metadata": {},
   "source": [
    "    strip"
   ]
  },
  {
   "attachments": {},
   "cell_type": "markdown",
   "metadata": {},
   "source": [
    "    min/max"
   ]
  },
  {
   "attachments": {},
   "cell_type": "markdown",
   "metadata": {},
   "source": [
    "    set"
   ]
  },
  {
   "attachments": {},
   "cell_type": "markdown",
   "metadata": {},
   "source": [
    "## 그외 주의할점\n",
    "손코딩이라 철자 주의할것!   \n",
    "True, False 쓸때 앞은 무조건 대문자\n"
   ]
  }
 ],
 "metadata": {
  "kernelspec": {
   "display_name": "Python 3",
   "language": "python",
   "name": "python3"
  },
  "language_info": {
   "codemirror_mode": {
    "name": "ipython",
    "version": 3
   },
   "file_extension": ".py",
   "mimetype": "text/x-python",
   "name": "python",
   "nbconvert_exporter": "python",
   "pygments_lexer": "ipython3",
   "version": "3.11.2"
  },
  "orig_nbformat": 4
 },
 "nbformat": 4,
 "nbformat_minor": 2
}
