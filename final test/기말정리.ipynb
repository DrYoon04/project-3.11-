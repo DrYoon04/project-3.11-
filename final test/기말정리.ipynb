{
 "cells": [
  {
   "attachments": {},
   "cell_type": "markdown",
   "metadata": {},
   "source": [
    "## 딕셔너리\n",
    "\n",
    "---"
   ]
  },
  {
   "attachments": {},
   "cell_type": "markdown",
   "metadata": {},
   "source": [
    "소개   \n",
    "파이썬에서 연관된 값을 묶어서 저장하는 용도로 사용"
   ]
  },
  {
   "cell_type": "code",
   "execution_count": 1,
   "metadata": {},
   "outputs": [],
   "source": [
    "lux = {'health' : 490, 'mana' : 334, 'melee' : 550, 'armor' : 18.72}"
   ]
  },
  {
   "attachments": {},
   "cell_type": "markdown",
   "metadata": {},
   "source": [
    "특징   \n",
    "딕셔너리만 봐도 lux라는 개체의 체력은 490, 마나는 334 같은 값을  쉽게 알수있음   \n",
    "딕셔너리는 값마다 이름을 붙여서 저장하는 방식   \n",
    "\n",
    "---"
   ]
  },
  {
   "attachments": {},
   "cell_type": "markdown",
   "metadata": {},
   "source": [
    "### 딕셔너리 만들기   \n",
    "**<font color=\"red\">{ }</font>** (중괄호)안에 키:값 형식으로 저장   \n",
    "각 키와 값은 **<font color=\"red\">, </font>**(콤마)로 구분   \n",
    "    **딕셔너리 = {키1 : 값1, 키2: 값2}**\n"
   ]
  },
  {
   "cell_type": "code",
   "execution_count": 2,
   "metadata": {},
   "outputs": [
    {
     "name": "stdout",
     "output_type": "stream",
     "text": [
      "{'health': 490, 'mana': 334, 'melee': 550, 'armor': 18.72}\n"
     ]
    }
   ],
   "source": [
    "lux = {'health' : 490, 'mana' : 334, 'melee' : 550, 'armor' : 18.72}\n",
    "print(lux)"
   ]
  },
  {
   "attachments": {},
   "cell_type": "markdown",
   "metadata": {},
   "source": [
    "\n",
    "\n",
    "딕셔너리는 키를 먼저 지정하고 **<font color=\"red\">:</font>** (콜론)을 붙여서 값을 표현   \n",
    "키에는 값을 하나만 지정가능(키-값은 1:1대응)   \n",
    "   \n",
    "---   \n",
    "   \n",
    "   \n",
    "키 이름 중복시   \n",
    "**가장 뒤의 값**만 사용"
   ]
  },
  {
   "cell_type": "code",
   "execution_count": 3,
   "metadata": {},
   "outputs": [
    {
     "name": "stdout",
     "output_type": "stream",
     "text": [
      "18.72\n"
     ]
    }
   ],
   "source": [
    "lux = {'health' : 490, 'health' : 334, 'health' : 550, 'health' : 18.72}\n",
    "print(lux['health'])"
   ]
  },
  {
   "attachments": {},
   "cell_type": "markdown",
   "metadata": {},
   "source": [
    "#### 사용할 수 있는 자료형 \n",
    "키 : 정수, 실수, 불등 모든 자료형 사용가능   \n",
    "섞어서도 사용가능   \n",
    "값 : 리스트 딕셔너리 등을 포함 모든 자료형 사용가능      "
   ]
  },
  {
   "cell_type": "code",
   "execution_count": 4,
   "metadata": {},
   "outputs": [
    {
     "name": "stdout",
     "output_type": "stream",
     "text": [
      "{100: 'hundred', False: 0, 3.5: [3.5, 3.6]}\n"
     ]
    }
   ],
   "source": [
    "x = {100: 'hundred', False : 0, 3.5 : [3.5,3.6]}\n",
    "print(x)"
   ]
  },
  {
   "attachments": {},
   "cell_type": "markdown",
   "metadata": {},
   "source": [
    "단, 키에는 리스트와 딕셔너리는 사용 불가능"
   ]
  },
  {
   "cell_type": "code",
   "execution_count": 5,
   "metadata": {},
   "outputs": [
    {
     "ename": "TypeError",
     "evalue": "unhashable type: 'list'",
     "output_type": "error",
     "traceback": [
      "\u001b[1;31m---------------------------------------------------------------------------\u001b[0m",
      "\u001b[1;31mTypeError\u001b[0m                                 Traceback (most recent call last)",
      "Cell \u001b[1;32mIn[5], line 1\u001b[0m\n\u001b[1;32m----> 1\u001b[0m x \u001b[39m=\u001b[39m {[\u001b[39m10\u001b[39m,\u001b[39m20\u001b[39m]:\u001b[39m100\u001b[39m}\n",
      "\u001b[1;31mTypeError\u001b[0m: unhashable type: 'list'"
     ]
    }
   ],
   "source": [
    "x = {[10,20]:100}"
   ]
  },
  {
   "cell_type": "code",
   "execution_count": null,
   "metadata": {},
   "outputs": [
    {
     "ename": "TypeError",
     "evalue": "unhashable type: 'dict'",
     "output_type": "error",
     "traceback": [
      "\u001b[1;31m---------------------------------------------------------------------------\u001b[0m",
      "\u001b[1;31mTypeError\u001b[0m                                 Traceback (most recent call last)",
      "Cell \u001b[1;32mIn[11], line 1\u001b[0m\n\u001b[1;32m----> 1\u001b[0m x \u001b[39m=\u001b[39m {{\u001b[39m'\u001b[39m\u001b[39ma\u001b[39m\u001b[39m'\u001b[39m:\u001b[39m10\u001b[39m}:\u001b[39m100\u001b[39m}\n",
      "\u001b[1;31mTypeError\u001b[0m: unhashable type: 'dict'"
     ]
    }
   ],
   "source": [
    "x = {{'a':10}:100}"
   ]
  },
  {
   "attachments": {},
   "cell_type": "markdown",
   "metadata": {},
   "source": [
    "빈 딕셔너리 만들기\n"
   ]
  },
  {
   "cell_type": "code",
   "execution_count": null,
   "metadata": {},
   "outputs": [
    {
     "name": "stdout",
     "output_type": "stream",
     "text": [
      "{}\n",
      "{}\n"
     ]
    }
   ],
   "source": [
    "x = {}\n",
    "\n",
    "print(x)\n",
    "\n",
    "y = dict()\n",
    "\n",
    "print(y)"
   ]
  },
  {
   "attachments": {},
   "cell_type": "markdown",
   "metadata": {},
   "source": [
    "dict는 키와 값을 연결하거나, 리스트 , 튜플, 딕셔너리로 딕셔너리를 만들때 사용함   \n",
    "dict에서 키 = 값 형식으로 딕셔너리를 만들 수 있음\n",
    "키에 ' '(작은따옴표)나 \"\"(큰따옴표)를 사용하지 않아야함\n",
    "키는 딕셔너리를 만들고 나면 문자열로 바뀜"
   ]
  },
  {
   "cell_type": "code",
   "execution_count": null,
   "metadata": {},
   "outputs": [
    {
     "data": {
      "text/plain": [
       "{'health': 490, 'mana': 334, 'melee': 550, 'armor': 18.72}"
      ]
     },
     "execution_count": 2,
     "metadata": {},
     "output_type": "execute_result"
    }
   ],
   "source": [
    "lux1 = dict(health=490, mana=334, melee=550, armor=18.72)\n",
    "lux1"
   ]
  },
  {
   "attachments": {},
   "cell_type": "markdown",
   "metadata": {},
   "source": [
    "딕셔너리에 안의 요소 확인법 \n"
   ]
  },
  {
   "cell_type": "code",
   "execution_count": null,
   "metadata": {},
   "outputs": [
    {
     "name": "stdout",
     "output_type": "stream",
     "text": [
      "True\n",
      "False\n"
     ]
    }
   ],
   "source": [
    "lux1 = dict(health=490, mana=334, melee=550, armor=18.72)\n",
    "print('health' in lux1)\n",
    "print('health' not in lux1)"
   ]
  },
  {
   "attachments": {},
   "cell_type": "markdown",
   "metadata": {},
   "source": [
    "딕셔너리 = dict(키1=값1, 키2=값2)\n",
    "딕셔너리 = dict(zip([키1, 키2],[값1, 값2]))\n",
    "딕셔너리 = dict([(키1, 값1),(키2, 값2)])\n",
    "딕셔너리 = dict({키1: 값1, 키2: 값2})"
   ]
  },
  {
   "attachments": {},
   "cell_type": "markdown",
   "metadata": {},
   "source": [
    "setdeflult는 딕셔너리에 키-값 쌍을 추가함\n",
    "키만 지정하면 None을 저장함"
   ]
  },
  {
   "cell_type": "code",
   "execution_count": null,
   "metadata": {},
   "outputs": [
    {
     "name": "stdout",
     "output_type": "stream",
     "text": [
      "{'health': 490, 'mana': 334, 'melee': 550, 'armor': 18.72, 'test': None}\n"
     ]
    }
   ],
   "source": [
    "lux1 = dict(health=490, mana=334, melee=550, armor=18.72)\n",
    "lux1.setdefault('test')\n",
    "print(lux1)"
   ]
  },
  {
   "cell_type": "code",
   "execution_count": null,
   "metadata": {},
   "outputs": [
    {
     "name": "stdout",
     "output_type": "stream",
     "text": [
      "{'health': 490, 'mana': 334, 'melee': 550, 'armor': 18.72, 'test': None, 'f': 100}\n"
     ]
    }
   ],
   "source": [
    "lux1.setdefault('f',100)\n",
    "print(lux1)"
   ]
  },
  {
   "cell_type": "code",
   "execution_count": null,
   "metadata": {},
   "outputs": [
    {
     "name": "stdout",
     "output_type": "stream",
     "text": [
      "{'health': 90, 'mana': 334, 'melee': 550, 'armor': 18.72, 'test': None, 'f': 100, 100: 'ㅎㅎ'}\n"
     ]
    }
   ],
   "source": [
    "lux1.update(health=90)#키가 문자일때만 =붙일수 있음\n",
    "#키에 따옴표 붙이면 안됨\n",
    "lux1.update({100 : 'ㅎㅎ'})#키가 숫자일때는 이렇게\n",
    "print(lux1)"
   ]
  },
  {
   "cell_type": "code",
   "execution_count": null,
   "metadata": {},
   "outputs": [
    {
     "name": "stdout",
     "output_type": "stream",
     "text": [
      "90\n",
      "{'mana': 334, 'melee': 550, 'armor': 18.72, 'test': None, 'f': 100, 100: 'ㅎㅎ'}\n"
     ]
    }
   ],
   "source": [
    "a = lux1.pop('health')\n",
    "print(a)\n",
    "print(lux1)"
   ]
  },
  {
   "cell_type": "code",
   "execution_count": 6,
   "metadata": {},
   "outputs": [
    {
     "name": "stdout",
     "output_type": "stream",
     "text": [
      "{'health': 490, 'melee': 550, 'armor': 18.72}\n"
     ]
    }
   ],
   "source": [
    "lux1 = dict(health=490, mana=334, melee=550, armor=18.72)\n",
    "del lux1['mana']\n",
    "print(lux1)"
   ]
  },
  {
   "cell_type": "code",
   "execution_count": 7,
   "metadata": {},
   "outputs": [
    {
     "name": "stdout",
     "output_type": "stream",
     "text": [
      "{}\n"
     ]
    }
   ],
   "source": [
    "lux1.clear()\n",
    "print(lux1)"
   ]
  },
  {
   "cell_type": "code",
   "execution_count": 8,
   "metadata": {},
   "outputs": [
    {
     "data": {
      "text/plain": [
       "18.72"
      ]
     },
     "execution_count": 8,
     "metadata": {},
     "output_type": "execute_result"
    }
   ],
   "source": [
    "lux1 = dict(health=490, mana=334, melee=550, armor=18.72)\n",
    "lux.get('health')"
   ]
  },
  {
   "cell_type": "code",
   "execution_count": 11,
   "metadata": {},
   "outputs": [
    {
     "name": "stdout",
     "output_type": "stream",
     "text": [
      "dict_items([('health', 490), ('mana', 334), ('melee', 550), ('armor', 18.72)])\n",
      "dict_keys(['health', 'mana', 'melee', 'armor'])\n",
      "dict_values([490, 334, 550, 18.72])\n"
     ]
    }
   ],
   "source": [
    "lux1 = dict(health=490, mana=334, melee=550, armor=18.72)\n",
    "print(lux1.items())# 딕셔너리의 키-값쌍을 모두 가져옴\n",
    "print(lux1.keys())# 키를 모두 가져옴\n",
    "print(lux1.values())# 값을 모두 가져옴\n"
   ]
  },
  {
   "cell_type": "code",
   "execution_count": 12,
   "metadata": {},
   "outputs": [
    {
     "name": "stdout",
     "output_type": "stream",
     "text": [
      "{'a': None, 'b': None, 'c': None, 'd': None}\n"
     ]
    }
   ],
   "source": [
    "keys = ['a','b','c','d']\n",
    "x = dict.fromkeys(keys)#값을 지정하지 않으면 None으로 저장\n",
    "print(x)"
   ]
  },
  {
   "cell_type": "code",
   "execution_count": 13,
   "metadata": {},
   "outputs": [
    {
     "name": "stdout",
     "output_type": "stream",
     "text": [
      "{'a': 100, 'b': 100, 'c': 100, 'd': 100}\n"
     ]
    }
   ],
   "source": [
    "keys = ['a','b','c','d']\n",
    "x = dict.fromkeys(keys,100)#값을 지정하면 일괄적으로 저장함\n",
    "print(x)"
   ]
  },
  {
   "cell_type": "code",
   "execution_count": 14,
   "metadata": {},
   "outputs": [
    {
     "name": "stdout",
     "output_type": "stream",
     "text": [
      "health mana melee armor "
     ]
    }
   ],
   "source": [
    "lux1 = dict(health=490, mana=334, melee=550, armor=18.72)\n",
    "for i in lux1:\n",
    "    print(i, end=' ')#이렇게 하면 키만 출력함"
   ]
  },
  {
   "cell_type": "code",
   "execution_count": 15,
   "metadata": {},
   "outputs": [
    {
     "name": "stdout",
     "output_type": "stream",
     "text": [
      "a 100\n",
      "b 100\n",
      "c 100\n",
      "d 100\n"
     ]
    }
   ],
   "source": [
    "lux1 = dict(health=490, mana=334, melee=550, armor=18.72)\n",
    "for key, value in x.items():\n",
    "    print(key, value)#이렇게 해야 다나옴"
   ]
  },
  {
   "cell_type": "code",
   "execution_count": 20,
   "metadata": {},
   "outputs": [
    {
     "name": "stdout",
     "output_type": "stream",
     "text": [
      "{'health': 490, 'mana': 334, 'melee': 550, 'armor': 18.72} {'health': 490, 'mana': 334, 'melee': 550, 'armor': 18.72}  "
     ]
    }
   ],
   "source": [
    "\n",
    "lux1 = dict(health=490, mana=334, melee=550, armor=18.72)\n",
    "lux2 = lux1#두 디셔너리는 이름만 다를뿐 같은개체임\n",
    "print(lux1,lux2,end=\"  \")"
   ]
  },
  {
   "cell_type": "code",
   "execution_count": 22,
   "metadata": {},
   "outputs": [
    {
     "data": {
      "text/plain": [
       "True"
      ]
     },
     "execution_count": 22,
     "metadata": {},
     "output_type": "execute_result"
    }
   ],
   "source": [
    "lux1 is lux2"
   ]
  },
  {
   "cell_type": "code",
   "execution_count": 26,
   "metadata": {},
   "outputs": [
    {
     "data": {
      "text/plain": [
       "{'health': 490, 'mana': 334, 'melee': 550, 'armor': 18.72, 'a': 99}"
      ]
     },
     "execution_count": 26,
     "metadata": {},
     "output_type": "execute_result"
    }
   ],
   "source": [
    "lux1['a'] = 99# 따라서 한쪽에서 이름을 바꾸면 다른한쪽도 이름이 바뀜\n",
    "lux2"
   ]
  },
  {
   "cell_type": "code",
   "execution_count": 28,
   "metadata": {},
   "outputs": [
    {
     "name": "stdout",
     "output_type": "stream",
     "text": [
      "{'health': 490, 'mana': 334, 'melee': 550, 'armor': 18.72}\n",
      "{'health': 490, 'mana': 334, 'melee': 550, 'armor': 18.72}\n"
     ]
    }
   ],
   "source": [
    "lux1 = dict(health=490, mana=334, melee=550, armor=18.72)\n",
    "lux2 = lux1.copy()#값은 같지만 서로 별개의 객체\n"
   ]
  },
  {
   "cell_type": "code",
   "execution_count": 30,
   "metadata": {},
   "outputs": [
    {
     "name": "stdout",
     "output_type": "stream",
     "text": [
      "{'health': 490, 'mana': 334, 'melee': 550, 'armor': 18.72}\n"
     ]
    }
   ],
   "source": [
    "lux1['a']=100\n",
    "print(lux2)#객체가 다르므로 값이 같이 바뀌지 않음"
   ]
  },
  {
   "attachments": {},
   "cell_type": "markdown",
   "metadata": {},
   "source": [
    "얕은 복사는 객체를 새로운 객체로 복사하지만 원본 객체의 주소값을 복사하는 것이고, 깊은 복사(deepcopy)는 전체 복사로 참조값의 복사가 아닌 참조된 객체 자체를 복사하는 것을 말한다."
   ]
  },
  {
   "attachments": {},
   "cell_type": "markdown",
   "metadata": {},
   "source": [
    "### 중첩루프"
   ]
  },
  {
   "cell_type": "code",
   "execution_count": 33,
   "metadata": {},
   "outputs": [
    {
     "name": "stdout",
     "output_type": "stream",
     "text": [
      "j0 j1 j2 j3 j4 i0\\n\n",
      "j0 j1 j2 j3 j4 i1\\n\n",
      "j0 j1 j2 j3 j4 i2\\n\n",
      "j0 j1 j2 j3 j4 i3\\n\n",
      "j0 j1 j2 j3 j4 i4\\n\n"
     ]
    }
   ],
   "source": [
    "for i in range(5):# 5번 반복, 바깥쪽 루프는 세로 방향\n",
    "    for j in range(5):# 5번 반복, 안쪽 루프는 가로 방향\n",
    "        print('j',j,sep='',end=' ')# j 값 출력, end에 ' '를 지정하여 줄바꿈 대신 한 칸 띄움\n",
    "    print('i',i,'\\\\n',sep='')# i 값 출력, 개행 문자 모양도 출력\n",
    "                             #가로 방향으로 숫자를 모두 출력한 뒤 다음 줄로 넘어감\n",
    "                             #(print는 기본적으로 출력 후 다음 줄로 넘어감)"
   ]
  },
  {
   "cell_type": "code",
   "execution_count": 39,
   "metadata": {},
   "outputs": [
    {
     "name": "stdout",
     "output_type": "stream",
     "text": [
      "*****0\n",
      "*****1\n",
      "*****2\n",
      "*****3\n",
      "*****4\n"
     ]
    }
   ],
   "source": [
    "for i in range(5): #바깥쪽 루프는 세로 방향\n",
    "    for j in range(5):#안쪽 루프는 가로방향\n",
    "        print('*',end='')#별 출력, end에 ''를 지정하여 줄바꿈을 하지 않음\n",
    "    print(i)#가로 방향으로 별을 다 그린뒤 다음줄로 넘어감"
   ]
  },
  {
   "attachments": {},
   "cell_type": "markdown",
   "metadata": {},
   "source": [
    "### set(집합)"
   ]
  },
  {
   "cell_type": "code",
   "execution_count": 42,
   "metadata": {},
   "outputs": [
    {
     "data": {
      "text/plain": [
       "{'cherry', 'grape', 'orange', 'pineapple', 'strawberry'}"
      ]
     },
     "execution_count": 42,
     "metadata": {},
     "output_type": "execute_result"
    }
   ],
   "source": [
    "fruits = {'strawberry','grape','orange','pineapple','cherry'}\n",
    "fruits "
   ]
  },
  {
   "cell_type": "code",
   "execution_count": 43,
   "metadata": {},
   "outputs": [
    {
     "ename": "TypeError",
     "evalue": "'set' object is not subscriptable",
     "output_type": "error",
     "traceback": [
      "\u001b[1;31m---------------------------------------------------------------------------\u001b[0m",
      "\u001b[1;31mTypeError\u001b[0m                                 Traceback (most recent call last)",
      "Cell \u001b[1;32mIn[43], line 1\u001b[0m\n\u001b[1;32m----> 1\u001b[0m \u001b[39mprint\u001b[39m(fruits[\u001b[39m0\u001b[39;49m])\n",
      "\u001b[1;31mTypeError\u001b[0m: 'set' object is not subscriptable"
     ]
    }
   ],
   "source": [
    "print(fruits[0])"
   ]
  },
  {
   "cell_type": "code",
   "execution_count": 1,
   "metadata": {},
   "outputs": [
    {
     "ename": "NameError",
     "evalue": "name 'fruits' is not defined",
     "output_type": "error",
     "traceback": [
      "\u001b[1;31m---------------------------------------------------------------------------\u001b[0m",
      "\u001b[1;31mNameError\u001b[0m                                 Traceback (most recent call last)",
      "Cell \u001b[1;32mIn[1], line 1\u001b[0m\n\u001b[1;32m----> 1\u001b[0m \u001b[39mprint\u001b[39m(\u001b[39m'\u001b[39m\u001b[39morange\u001b[39m\u001b[39m'\u001b[39m \u001b[39min\u001b[39;00m fruits)\n\u001b[0;32m      2\u001b[0m \u001b[39mprint\u001b[39m(\u001b[39m'\u001b[39m\u001b[39morange\u001b[39m\u001b[39m'\u001b[39m \u001b[39mnot\u001b[39;00m \u001b[39min\u001b[39;00m fruits)\n",
      "\u001b[1;31mNameError\u001b[0m: name 'fruits' is not defined"
     ]
    }
   ],
   "source": [
    "print('orange' in fruits)\n",
    "print('orange' not in fruits)"
   ]
  },
  {
   "cell_type": "code",
   "execution_count": 47,
   "metadata": {},
   "outputs": [
    {
     "name": "stdout",
     "output_type": "stream",
     "text": [
      "{'e', 'l', 'a', 'p'}\n"
     ]
    }
   ],
   "source": [
    "a = set('apple')#요소가 중복되면 1개만 들어감\n",
    "print(a)"
   ]
  },
  {
   "attachments": {},
   "cell_type": "markdown",
   "metadata": {},
   "source": [
    "합집합을 구하는 방법    \n",
    "세트1 | 세트2   \n",
    "set.union(세트1, 세트2)   \n",
    "**<font color=\"red\">이거 시험에 나온다!!</font>**"
   ]
  },
  {
   "cell_type": "code",
   "execution_count": 50,
   "metadata": {},
   "outputs": [
    {
     "name": "stdout",
     "output_type": "stream",
     "text": [
      "{1, 2, 3, 4, 5, 6, 7, 8}\n",
      "{1, 2, 3, 4, 5, 6, 7, 8}\n"
     ]
    }
   ],
   "source": [
    "a = {1,2,3,4,5}\n",
    "b = {4,5,6,7,8}\n",
    "print(a|b)\n",
    "print(set.union(a,b))"
   ]
  },
  {
   "attachments": {},
   "cell_type": "markdown",
   "metadata": {},
   "source": [
    "교집합을 구하는 방법   \n",
    "세트1 & 세트2\n",
    "set.intersection(세트1, 세트2)\n",
    "**<font color=\"red\">이거 시험에 나온다!!</font>**"
   ]
  },
  {
   "cell_type": "code",
   "execution_count": 51,
   "metadata": {},
   "outputs": [
    {
     "name": "stdout",
     "output_type": "stream",
     "text": [
      "{4, 5}\n",
      "{4, 5}\n"
     ]
    }
   ],
   "source": [
    "a = {1,2,3,4,5}\n",
    "b = {4,5,6,7,8}\n",
    "print(a&b)\n",
    "print(set.intersection(a,b))"
   ]
  },
  {
   "attachments": {},
   "cell_type": "markdown",
   "metadata": {},
   "source": [
    "차집합 사용법   \n",
    "세트1 - 세트2   \n",
    "set.difference(세트1, 세트2)"
   ]
  },
  {
   "cell_type": "code",
   "execution_count": 2,
   "metadata": {},
   "outputs": [
    {
     "name": "stdout",
     "output_type": "stream",
     "text": [
      "{1, 2, 3}\n",
      "{1, 2, 3}\n"
     ]
    }
   ],
   "source": [
    "a = {1,2,3,4,5}\n",
    "b = {4,5,6,7,8}\n",
    "print(a-b)\n",
    "print(set.difference(a,b))"
   ]
  },
  {
   "attachments": {},
   "cell_type": "markdown",
   "metadata": {},
   "source": [
    "대칭 차집합 사용법   \n",
    "세트1 ^ 세트2\n",
    "set.symmetric_difference(a,b)"
   ]
  },
  {
   "cell_type": "code",
   "execution_count": 3,
   "metadata": {},
   "outputs": [
    {
     "name": "stdout",
     "output_type": "stream",
     "text": [
      "{1, 2, 3, 6, 7, 8}\n",
      "{1, 2, 3, 6, 7, 8}\n"
     ]
    }
   ],
   "source": [
    "a = {1,2,3,4,5}\n",
    "b = {4,5,6,7,8}\n",
    "print(a^b)\n",
    "print(set.symmetric_difference(a,b))"
   ]
  },
  {
   "attachments": {},
   "cell_type": "markdown",
   "metadata": {},
   "source": [
    "세트에 요소 추가하기   \n",
    "a.add(값)   \n",
    "요소 삭제하기   \n",
    "a.remove(값) = 특정요소를 삭제시 삭제할 요소가 없으면 오류를 발생시킴   \n",
    "a.discard(값) = 특정요소를 삭제시 삭제할 요소가 없으면 그냥 넘어감   \n",
    "a.pop(값) = 세트에서 임의의 요소를 삭제하고 해당 요소를 반환함 없으면 오류 발생   \n",
    "a.clear() = 모든 요소를 삭제   \n",
    "len(a) = 요소 개수(길이)를 구함   \n",
    "b = a 얕은 복사   \n",
    "\n",
    "b = a.copy() 깊은 복사   \n",
    "\n"
   ]
  },
  {
   "cell_type": "code",
   "execution_count": 54,
   "metadata": {},
   "outputs": [
    {
     "name": "stdout",
     "output_type": "stream",
     "text": [
      "{'e', 'l', 'a', 'p'}\n"
     ]
    }
   ],
   "source": [
    "a = {i for i in 'apple'}\n",
    "print(a)"
   ]
  },
  {
   "cell_type": "code",
   "execution_count": 1,
   "metadata": {},
   "outputs": [
    {
     "name": "stdout",
     "output_type": "stream",
     "text": [
      "1\n",
      "2\n",
      "3\n",
      "4\n"
     ]
    }
   ],
   "source": [
    "a = {1,2,3,4}\n",
    "for i in a :\n",
    "    print(i)"
   ]
  },
  {
   "cell_type": "code",
   "execution_count": 2,
   "metadata": {},
   "outputs": [
    {
     "name": "stdout",
     "output_type": "stream",
     "text": [
      "{'l', 'e', 'a', 'p'}\n"
     ]
    }
   ],
   "source": [
    "a = {i for i in 'apple'}\n",
    "print(a)"
   ]
  },
  {
   "cell_type": "code",
   "execution_count": 4,
   "metadata": {},
   "outputs": [
    {
     "name": "stdout",
     "output_type": "stream",
     "text": [
      "{'i', 'e', 'n'}\n"
     ]
    }
   ],
   "source": [
    "a = {i for i in 'pineapple' if i not in 'apl'}\n",
    "#pineapple을 하나씩 i에 집어넣는데 넣을때 a,p,l 아닐때만 집어넘\n",
    "print(a)"
   ]
  },
  {
   "attachments": {},
   "cell_type": "markdown",
   "metadata": {},
   "source": [
    "### 파일가지고 ㅈㄹ 하기"
   ]
  },
  {
   "attachments": {},
   "cell_type": "markdown",
   "metadata": {},
   "source": [
    "파일객체 = open(파일이름, 파일모드)\n",
    "파일객체.write('문자열')\n",
    "파일객체.close()"
   ]
  },
  {
   "cell_type": "code",
   "execution_count": 2,
   "metadata": {},
   "outputs": [],
   "source": [
    "file = open('hello.txt','w')#hello.txt 파일을 쓰기모드로 열기 만약 없으면 새로 생성\n",
    "file.write('hello, world!')#파일에 문자열 저장\n",
    "file.close()#파일 닫기"
   ]
  },
  {
   "attachments": {},
   "cell_type": "markdown",
   "metadata": {},
   "source": [
    "변수 = 파일객체.read()"
   ]
  },
  {
   "cell_type": "code",
   "execution_count": 3,
   "metadata": {},
   "outputs": [
    {
     "name": "stdout",
     "output_type": "stream",
     "text": [
      "hello, world!\n"
     ]
    }
   ],
   "source": [
    "file = open('hello.txt','r')\n",
    "s = file.read()\n",
    "print(s)\n",
    "file.close()"
   ]
  },
  {
   "attachments": {},
   "cell_type": "markdown",
   "metadata": {},
   "source": [
    "with as(파일이름,파일모드) as 파일겍체:   \n",
    "    코드~~   \n",
    "이렇게 하면 파일을 사용한뒤 자동으로 닫아줌   \n",
    "파일.close()안적어도됨   "
   ]
  },
  {
   "cell_type": "code",
   "execution_count": 4,
   "metadata": {},
   "outputs": [
    {
     "name": "stdout",
     "output_type": "stream",
     "text": [
      "hello, world!\n"
     ]
    }
   ],
   "source": [
    "with open('hello.txt','r') as file:\n",
    "    s = file.read()\n",
    "    print(s)"
   ]
  },
  {
   "attachments": {},
   "cell_type": "markdown",
   "metadata": {},
   "source": [
    "문자열 여러 줄을 쓰려먼 간단하게 반복문을 사용하면 됨"
   ]
  },
  {
   "cell_type": "code",
   "execution_count": 13,
   "metadata": {},
   "outputs": [],
   "source": [
    "with open('hello.txt','w') as file:\n",
    "    for i in range(3):\n",
    "        file.write('hello, world!{0}\\n'.format(i)) "
   ]
  },
  {
   "attachments": {},
   "cell_type": "markdown",
   "metadata": {},
   "source": [
    "파일의 내용을 한 줄씩 리스트로 가져오기"
   ]
  },
  {
   "cell_type": "code",
   "execution_count": 16,
   "metadata": {},
   "outputs": [
    {
     "name": "stdout",
     "output_type": "stream",
     "text": [
      "hello, world!0\n",
      "\n"
     ]
    }
   ],
   "source": [
    "with open('hello.txt','r',encoding='utf-8') as file:\n",
    "    lines = file.readline()#한줄씩 읽을때는 readline사용\n",
    "    print(lines)"
   ]
  },
  {
   "cell_type": "code",
   "execution_count": 1,
   "metadata": {},
   "outputs": [],
   "source": [
    "import pickle\n",
    "\n",
    "name = 'james'\n",
    "age = 17\n",
    "address = '서울시 서초구 반포동'\n",
    "scores = {'korean' : 90,'english' : 95,'mathematics':85,'science':82}\n",
    "\n",
    "with open('james.p','wb') as file: #wb로 설정하면 바이너로 쓰기\n",
    "    pickle.dump(name,file)\n",
    "    pickle.dump(age,file)\n",
    "    pickle.dump(address,file)\n",
    "    pickle.dump(scores,file)"
   ]
  },
  {
   "cell_type": "code",
   "execution_count": 4,
   "metadata": {},
   "outputs": [
    {
     "name": "stdout",
     "output_type": "stream",
     "text": [
      "james\n",
      "17\n",
      "서울시 서초구 반포동\n",
      "{'korean': 90, 'english': 95, 'mathematics': 85, 'science': 82}\n"
     ]
    }
   ],
   "source": [
    "import pickle\n",
    "\n",
    "name = 'james'\n",
    "age = 17\n",
    "address = '서울시 서초구 반포동'\n",
    "scores = {'korean' : 90,'english' : 95,'mathematics':85,'science':82}\n",
    "\n",
    "with open('james.p','rb') as file: #rb로 설정하면 바이너로 쓰기\n",
    "    name = pickle.load(file)\n",
    "    age = pickle.load(file)\n",
    "    address = pickle.load(file)\n",
    "    scores = pickle.load(file)\n",
    "    print(name)\n",
    "    print(age)\n",
    "    print(address)\n",
    "    print(scores)"
   ]
  },
  {
   "attachments": {},
   "cell_type": "markdown",
   "metadata": {},
   "source": [
    "### 함수\n"
   ]
  },
  {
   "cell_type": "code",
   "execution_count": 11,
   "metadata": {},
   "outputs": [
    {
     "name": "stdout",
     "output_type": "stream",
     "text": [
      "Hello, world!\n"
     ]
    }
   ],
   "source": [
    "def hello():\n",
    "    print('Hello, world!')\n",
    "\n",
    "hello()"
   ]
  },
  {
   "attachments": {},
   "cell_type": "markdown",
   "metadata": {},
   "source": [
    "예시 덧셈함수"
   ]
  },
  {
   "cell_type": "code",
   "execution_count": 13,
   "metadata": {},
   "outputs": [
    {
     "name": "stdout",
     "output_type": "stream",
     "text": [
      "30\n"
     ]
    }
   ],
   "source": [
    "def add(a,b):#괄호 안의 수는 매게변수\n",
    "    print(a+b)\n",
    "\n",
    "\n",
    "add(10,20)"
   ]
  },
  {
   "cell_type": "code",
   "execution_count": null,
   "metadata": {},
   "outputs": [],
   "source": []
  },
  {
   "attachments": {},
   "cell_type": "markdown",
   "metadata": {},
   "source": []
  }
 ],
 "metadata": {
  "kernelspec": {
   "display_name": "Python 3",
   "language": "python",
   "name": "python3"
  },
  "language_info": {
   "codemirror_mode": {
    "name": "ipython",
    "version": 3
   },
   "file_extension": ".py",
   "mimetype": "text/x-python",
   "name": "python",
   "nbconvert_exporter": "python",
   "pygments_lexer": "ipython3",
   "version": "3.11.3"
  },
  "orig_nbformat": 4
 },
 "nbformat": 4,
 "nbformat_minor": 2
}
