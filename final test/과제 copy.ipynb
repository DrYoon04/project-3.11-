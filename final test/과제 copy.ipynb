{
 "cells": [
  {
   "attachments": {},
   "cell_type": "markdown",
   "metadata": {},
   "source": [
    "## AI 프로그래밍 기초 연습문제 풀이   \n",
    "20230735 윤신웅"
   ]
  },
  {
   "attachments": {},
   "cell_type": "markdown",
   "metadata": {},
   "source": [
    "### 1번   \n",
    "주어진 리스트 두개를 딕셔너리로 변환하는 함수를 작성하세요.   \n",
    "이때, 첫번째 리스트의 값들은 딕셔너리의 키로, 두번째 리스트의 값은 딕셔너리의 값으로 사용됩니다.   \n",
    "즉, 각 키에 대응되는 값은 대응되는 한글 뜻으로 매핑함   \n"
   ]
  },
  {
   "cell_type": "code",
   "execution_count": 54,
   "metadata": {},
   "outputs": [
    {
     "name": "stdout",
     "output_type": "stream",
     "text": [
      "{'apple': '사과', 'banana': '바나나', 'cherry': '체리'}\n"
     ]
    }
   ],
   "source": [
    "def key_plus_velue(a,b):\n",
    "    return {a[i]: b[i] for i in range(len(a))}\n",
    "\n",
    "a = ['apple', 'banana', 'cherry']\n",
    "b = ['사과', '바나나', '체리']\n",
    "print(key_plus_velue(a,b))"
   ]
  },
  {
   "attachments": {},
   "cell_type": "markdown",
   "metadata": {},
   "source": [
    "### 2번   \n",
    "1에서 100까지의 수 중에서 홀수만을 포함하는 set을 생성하는 코드를 작성하세요."
   ]
  },
  {
   "cell_type": "code",
   "execution_count": 55,
   "metadata": {},
   "outputs": [
    {
     "name": "stdout",
     "output_type": "stream",
     "text": [
      "{1, 3, 5, 7, 9, 11, 13, 15, 17, 19, 21, 23, 25, 27, 29, 31, 33, 35, 37, 39, 41, 43, 45, 47, 49, 51, 53, 55, 57, 59, 61, 63, 65, 67, 69, 71, 73, 75, 77, 79, 81, 83, 85, 87, 89, 91, 93, 95, 97, 99}\n"
     ]
    }
   ],
   "source": [
    "print(set(i for i in range(1,101,2)))"
   ]
  },
  {
   "attachments": {},
   "cell_type": "markdown",
   "metadata": {},
   "source": [
    "### 3번   \n",
    "중첩 루프를 사용하여 구구단을 모두 출력하는 코드를 작성하세요"
   ]
  },
  {
   "cell_type": "code",
   "execution_count": 56,
   "metadata": {},
   "outputs": [
    {
     "name": "stdout",
     "output_type": "stream",
     "text": [
      "2*1 = 2\n",
      "2*2 = 4\n",
      "2*3 = 6\n",
      "2*4 = 8\n",
      "2*5 = 10\n",
      "2*6 = 12\n",
      "2*7 = 14\n",
      "2*8 = 16\n",
      "2*9 = 18\n",
      "3*1 = 3\n",
      "3*2 = 6\n",
      "3*3 = 9\n",
      "3*4 = 12\n",
      "3*5 = 15\n",
      "3*6 = 18\n",
      "3*7 = 21\n",
      "3*8 = 24\n",
      "3*9 = 27\n",
      "4*1 = 4\n",
      "4*2 = 8\n",
      "4*3 = 12\n",
      "4*4 = 16\n",
      "4*5 = 20\n",
      "4*6 = 24\n",
      "4*7 = 28\n",
      "4*8 = 32\n",
      "4*9 = 36\n",
      "5*1 = 5\n",
      "5*2 = 10\n",
      "5*3 = 15\n",
      "5*4 = 20\n",
      "5*5 = 25\n",
      "5*6 = 30\n",
      "5*7 = 35\n",
      "5*8 = 40\n",
      "5*9 = 45\n",
      "6*1 = 6\n",
      "6*2 = 12\n",
      "6*3 = 18\n",
      "6*4 = 24\n",
      "6*5 = 30\n",
      "6*6 = 36\n",
      "6*7 = 42\n",
      "6*8 = 48\n",
      "6*9 = 54\n",
      "7*1 = 7\n",
      "7*2 = 14\n",
      "7*3 = 21\n",
      "7*4 = 28\n",
      "7*5 = 35\n",
      "7*6 = 42\n",
      "7*7 = 49\n",
      "7*8 = 56\n",
      "7*9 = 63\n",
      "8*1 = 8\n",
      "8*2 = 16\n",
      "8*3 = 24\n",
      "8*4 = 32\n",
      "8*5 = 40\n",
      "8*6 = 48\n",
      "8*7 = 56\n",
      "8*8 = 64\n",
      "8*9 = 72\n",
      "9*1 = 9\n",
      "9*2 = 18\n",
      "9*3 = 27\n",
      "9*4 = 36\n",
      "9*5 = 45\n",
      "9*6 = 54\n",
      "9*7 = 63\n",
      "9*8 = 72\n",
      "9*9 = 81\n"
     ]
    }
   ],
   "source": [
    "print('\\n'.join(f'{i}*{j} = {i*j}' for i in range(2, 10) for j in range(1, 10)))\n"
   ]
  },
  {
   "attachments": {},
   "cell_type": "markdown",
   "metadata": {},
   "source": [
    "### 4번   \n",
    "'test.txt'라는 파일을 생성하고, 해당 파일에 문자열 'Hello, Python!'을 쓰는 코드를 작성하세요.\n"
   ]
  },
  {
   "cell_type": "code",
   "execution_count": 57,
   "metadata": {},
   "outputs": [],
   "source": [
    "with open('text.txt','w',encoding='utf=8') as file:\n",
    "    file.write('Hello,python!')"
   ]
  },
  {
   "attachments": {},
   "cell_type": "markdown",
   "metadata": {},
   "source": [
    "### 5번   \n",
    "주어진 숫자가 소수인지 판별하는 함수를 작성하세요.   \n",
    "주어진 숫자 17,15"
   ]
  },
  {
   "cell_type": "code",
   "execution_count": 58,
   "metadata": {},
   "outputs": [
    {
     "name": "stdout",
     "output_type": "stream",
     "text": [
      "True\n",
      "False\n"
     ]
    }
   ],
   "source": [
    "def sosu(a):\n",
    "    b = {False if a % i == 0 else True for i in range(2, a)}\n",
    "    \n",
    "    if False in b:\n",
    "        return('False')\n",
    "    else:\n",
    "        return('True')\n",
    "\n",
    "print(sosu(17))\n",
    "print(sosu(15))\n"
   ]
  },
  {
   "attachments": {},
   "cell_type": "markdown",
   "metadata": {},
   "source": [
    "### 6번   \n",
    "재귀호출을 이용해 피보나치 수열의 n번째 항을 반환하는 함수를 작성하세요.   \n",
    "(단, n은 1이상이며, 첫 번째 항과 두 번째 항은 모두 1입니다.)   \n",
    "피보나치 수열   \n",
    "1 1 2 3 5 8 13 21..."
   ]
  },
  {
   "cell_type": "code",
   "execution_count": 59,
   "metadata": {},
   "outputs": [
    {
     "name": "stdout",
     "output_type": "stream",
     "text": [
      "55\n"
     ]
    }
   ],
   "source": [
    "def fibo(c):\n",
    "    a = [1,1]\n",
    "    for i in range(c):\n",
    "        b = a[i]+a[i+1]\n",
    "        a.append(b)    \n",
    "    return a[c-1]\n",
    "\n",
    "print(fibo(10))\n"
   ]
  },
  {
   "attachments": {},
   "cell_type": "markdown",
   "metadata": {},
   "source": [
    "### 7번   \n",
    "'Student’라는 클래스를 생성하고, 이 클래스가 학번(id), 이름(name), 나이(age), 전화번호(tel), 주소(address)   \n",
    "라는 속성을 가지도록 코드를 작성하세요. 테스트코드는 임의로 작성하여 작동여부를 테스트함."
   ]
  },
  {
   "cell_type": "code",
   "execution_count": 60,
   "metadata": {},
   "outputs": [
    {
     "name": "stdout",
     "output_type": "stream",
     "text": [
      "3948902\n"
     ]
    }
   ],
   "source": [
    "class Student:\n",
    "    def __init__(self,id,name,age,tel,address):\n",
    "        self.id = id\n",
    "        self.name = name\n",
    "        self.age = age\n",
    "        self.tel = tel\n",
    "        self.address = address\n",
    "           \n",
    "\n",
    "maria = Student(3948902,'마리아', 20, 12345678,'여수 어딘가')\n",
    "print(maria.id)"
   ]
  },
  {
   "attachments": {},
   "cell_type": "markdown",
   "metadata": {},
   "source": [
    "### 8번   \n",
    "리스트의 중복된 요소를 제거하여 반환하는 함수를 작성하세요. 이때, set을 사용하세요.\n"
   ]
  },
  {
   "attachments": {},
   "cell_type": "markdown",
   "metadata": {},
   "source": [
    "입력요소 1,2,2,3,3,3,4,4,4,4,5,5,5,5,5"
   ]
  },
  {
   "cell_type": "code",
   "execution_count": 61,
   "metadata": {},
   "outputs": [
    {
     "name": "stdout",
     "output_type": "stream",
     "text": [
      "{1, 2, 3, 4, 5}\n"
     ]
    }
   ],
   "source": [
    "def go_to_set(c):\n",
    "    return set(c)\n",
    "\n",
    "a = 1,2,2,3,3,3,4,4,4,4,5,5,5,5,5\n",
    "print(go_to_set(a))"
   ]
  },
  {
   "attachments": {},
   "cell_type": "markdown",
   "metadata": {},
   "source": [
    "### 9번   \n",
    "파일에서 특정 문자열을 찾아 다른 문자열로 바꾸는 함수를 작성하세요."
   ]
  },
  {
   "cell_type": "code",
   "execution_count": 72,
   "metadata": {},
   "outputs": [
    {
     "name": "stdout",
     "output_type": "stream",
     "text": [
      "Hello,python!\n",
      "Hello가python!\n"
     ]
    }
   ],
   "source": [
    "def change(a,b):\n",
    "    with open('text.txt','r') as  file:\n",
    "        c = file.read()\n",
    "        d = c.replace(a,b)\n",
    "        print(c)\n",
    "    with open('text.txt','w') as file:\n",
    "        file.write(d)\n",
    "        print(d)\n",
    "\n",
    "\n",
    "\n",
    "change(',','가')\n",
    "        "
   ]
  },
  {
   "attachments": {},
   "cell_type": "markdown",
   "metadata": {},
   "source": [
    "### 10번   \n",
    "중첩 루프를 사용하여 별(*)로 피라미드를 출력하는 코드를 작성하세요   \n",
    "공백 "
   ]
  },
  {
   "cell_type": "code",
   "execution_count": 63,
   "metadata": {},
   "outputs": [
    {
     "name": "stdout",
     "output_type": "stream",
     "text": [
      "    *\n",
      "   ***\n",
      "  *****\n",
      " *******\n",
      "*********\n"
     ]
    }
   ],
   "source": [
    "for i in range(5):\n",
    "    for j in range(5-i-1):\n",
    "        print(\" \",end='')\n",
    "    for k in range(i*2+1):\n",
    "        print('*',end=\"\")\n",
    "    print()"
   ]
  },
  {
   "attachments": {},
   "cell_type": "markdown",
   "metadata": {},
   "source": [
    "### 11번   \n",
    "정수를 입력받아 그 수의 팩토리얼을 재귀 함수로 계산하는 코드를 작성하세요"
   ]
  },
  {
   "cell_type": "code",
   "execution_count": 64,
   "metadata": {},
   "outputs": [
    {
     "name": "stdout",
     "output_type": "stream",
     "text": [
      "120\n"
     ]
    }
   ],
   "source": [
    "def fac(a):\n",
    "    if a ==1 or a==0:\n",
    "        return 1\n",
    "    else:\n",
    "        return a*fac(a-1)\n",
    "    \n",
    "\n",
    "\n",
    "print(fac(5))"
   ]
  },
  {
   "attachments": {},
   "cell_type": "markdown",
   "metadata": {},
   "source": [
    "### 12번   \n",
    "위의 'Student'라는 클래스를 변형하여, 'Person' 클래스를 상속받도록 코드를 작성하세요.   \n",
    "‘Person’과 ‘Student’가 가질 속성을 의미를 고려하여 나눌것\n",
    "\n"
   ]
  },
  {
   "cell_type": "code",
   "execution_count": 65,
   "metadata": {},
   "outputs": [
    {
     "name": "stdout",
     "output_type": "stream",
     "text": [
      "id :  3948902\n",
      "이름 :  마리아\n",
      "나이 :  20\n",
      "전화번호 : 12345678\n",
      "주소 :  여수 어딘가\n"
     ]
    }
   ],
   "source": [
    "class Person:\n",
    "    def __init__(self, name, age, tel, address):\n",
    "        self.name = name\n",
    "        self.age = age\n",
    "        self.tel = tel\n",
    "        self.address = address\n",
    "\n",
    "class Student(Person):\n",
    "    def __init__(self, id, name, age, tel, address):\n",
    "        super().__init__(name, age, tel, address)\n",
    "        self.id = id\n",
    "\n",
    "\n",
    "maria = Student(3948902,'마리아', 20, 12345678,'여수 어딘가')\n",
    "\n",
    "\n",
    "print(\"id : \",maria.id)\n",
    "print(\"이름 : \",maria.name)\n",
    "print(\"나이 : \",maria.age)\n",
    "print(\"전화번호 :\",maria.tel)\n",
    "print(\"주소 : \",maria.address)"
   ]
  },
  {
   "attachments": {},
   "cell_type": "markdown",
   "metadata": {},
   "source": [
    "### 13번   \n",
    "주어진 딕셔너리의 키만 리스트로 반환하는 함수를 작성하세요."
   ]
  },
  {
   "cell_type": "code",
   "execution_count": 66,
   "metadata": {},
   "outputs": [
    {
     "name": "stdout",
     "output_type": "stream",
     "text": [
      "['apple', 'banana', 'cherry']\n"
     ]
    }
   ],
   "source": [
    "def dic_to_list(a):\n",
    "    return list(a.keys()) \n",
    "\n",
    "\n",
    "my_dict = {'apple': '사과', 'banana': '바나나', 'cherry': '체리'}\n",
    "print(dic_to_list(my_dict))"
   ]
  },
  {
   "attachments": {},
   "cell_type": "markdown",
   "metadata": {},
   "source": [
    "### 14번   \n",
    "임의의 텍스트 파일 (뉴스나 인터넷 기사를 copy & paste)의 모든 라인을 읽어,   \n",
    "각 라인에 포함된 unique한 단어의 개수를 출력하는 코드를 작성하세요."
   ]
  },
  {
   "cell_type": "code",
   "execution_count": 67,
   "metadata": {},
   "outputs": [
    {
     "name": "stdout",
     "output_type": "stream",
     "text": [
      "3\n"
     ]
    }
   ],
   "source": [
    "with open('file.txt', 'r', encoding='utf-8') as file:\n",
    "    a = file.read()\n",
    "    unique_word = '상어'\n",
    "    b = set(a.find(unique_word, i) for i in range(len(a)) if a.find(unique_word, i) != -1)\n",
    "    print(len(b))"
   ]
  },
  {
   "attachments": {},
   "cell_type": "markdown",
   "metadata": {},
   "source": [
    "### 15번   \n",
    "2차원 리스트를 입력 받아 (혹은 랜덤으로 생성하여),   \n",
    "리스트의 각 요소들을 순회하며 출력하는 함수를 작성하세요. 중첩 루프를 사용하세요."
   ]
  },
  {
   "cell_type": "code",
   "execution_count": 68,
   "metadata": {},
   "outputs": [
    {
     "name": "stdout",
     "output_type": "stream",
     "text": [
      "2 3 4 \n",
      "5 4 7 \n",
      "7 4 3 \n"
     ]
    }
   ],
   "source": [
    "def circle(a):\n",
    "    for i in a:\n",
    "        for j in i:\n",
    "            print(j,end=' ')\n",
    "        print()\n",
    "\n",
    "b = [[2,3,4],[5,4,7],[7,4,3]]\n",
    "circle(b)"
   ]
  },
  {
   "attachments": {},
   "cell_type": "markdown",
   "metadata": {},
   "source": [
    "### 16번\n",
    "재귀호출을 사용하여 주어진 문자열을 거꾸로 뒤집는 함수를 작성하세요.\n"
   ]
  },
  {
   "cell_type": "code",
   "execution_count": 69,
   "metadata": {},
   "outputs": [
    {
     "name": "stdout",
     "output_type": "stream",
     "text": [
      "hjlkfdds\n"
     ]
    }
   ],
   "source": [
    "def reverse(a):\n",
    "    return a[::-1]\n",
    "\n",
    "print(reverse('sddfkljh'))"
   ]
  },
  {
   "attachments": {},
   "cell_type": "markdown",
   "metadata": {},
   "source": [
    "### 17번\n",
    "주어진 리스트에 대해 각 숫자의 출현 횟수를 딕셔너리로 반환하는 함수를 작성하세요\n"
   ]
  },
  {
   "cell_type": "code",
   "execution_count": 70,
   "metadata": {},
   "outputs": [
    {
     "name": "stdout",
     "output_type": "stream",
     "text": [
      "{1: 1, 2: 2, 3: 3, 4: 4}\n"
     ]
    }
   ],
   "source": [
    "def count_numbers(number_list):\n",
    "    number_dic = {}\n",
    "\n",
    "    for number in number_list:\n",
    "        if number in number_dic:\n",
    "            number_dic[number] += 1\n",
    "        else:\n",
    "            number_dic[number] = 1\n",
    "\n",
    "    return number_dic\n",
    "\n",
    "number_list = [1, 2, 2, 3, 3, 3, 4, 4, 4, 4]\n",
    "print(count_numbers(number_list))\n"
   ]
  },
  {
   "cell_type": "code",
   "execution_count": null,
   "metadata": {},
   "outputs": [],
   "source": []
  }
 ],
 "metadata": {
  "kernelspec": {
   "display_name": "Python 3",
   "language": "python",
   "name": "python3"
  },
  "language_info": {
   "codemirror_mode": {
    "name": "ipython",
    "version": 3
   },
   "file_extension": ".py",
   "mimetype": "text/x-python",
   "name": "python",
   "nbconvert_exporter": "python",
   "pygments_lexer": "ipython3",
   "version": "3.11.3"
  },
  "orig_nbformat": 4
 },
 "nbformat": 4,
 "nbformat_minor": 2
}
