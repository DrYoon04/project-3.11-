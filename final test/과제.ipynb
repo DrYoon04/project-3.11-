{
 "cells": [
  {
   "attachments": {},
   "cell_type": "markdown",
   "metadata": {},
   "source": [
    "## AI 프로그래밍 기초 연습문제 풀이   \n",
    "20230735 윤신웅"
   ]
  },
  {
   "attachments": {},
   "cell_type": "markdown",
   "metadata": {},
   "source": [
    "### 1번   \n",
    "주어진 리스트 두개를 딕셔너리로 변환하는 함수를 작성하세요.   \n",
    "이때, 첫번째 리스트의 값들은 딕셔너리의 키로, 두번째 리스트의 값은 딕셔너리의 값으로 사용됩니다.   \n",
    "즉, 각 키에 대응되는 값은 대응되는 한글 뜻으로 매핑함   \n"
   ]
  },
  {
   "cell_type": "code",
   "execution_count": 1,
   "metadata": {},
   "outputs": [
    {
     "name": "stdout",
     "output_type": "stream",
     "text": [
      "{'apple': '사과', 'banana': '바나나', 'cherry': '체리'}\n"
     ]
    }
   ],
   "source": [
    "def list_to_dict(a, b):\n",
    "    c = {}\n",
    "    for i in range(len(a)):\n",
    "        c[a[i]] = b[i]\n",
    "    return c\n",
    "\n",
    "a = ['apple', 'banana', 'cherry']\n",
    "b = ['사과', '바나나', '체리']\n",
    "result = list_to_dict(a, b)\n",
    "print(result)"
   ]
  },
  {
   "attachments": {},
   "cell_type": "markdown",
   "metadata": {},
   "source": [
    "### 2번   \n",
    "1에서 100까지의 수 중에서 홀수만을 포함하는 set을 생성하는 코드를 작성하세요."
   ]
  },
  {
   "cell_type": "code",
   "execution_count": 2,
   "metadata": {},
   "outputs": [
    {
     "name": "stdout",
     "output_type": "stream",
     "text": [
      "{1, 3, 5, 7, 9, 11, 13, 15, 17, 19, 21, 23, 25, 27, 29, 31, 33, 35, 37, 39, 41, 43, 45, 47, 49, 51, 53, 55, 57, 59, 61, 63, 65, 67, 69, 71, 73, 75, 77, 79, 81, 83, 85, 87, 89, 91, 93, 95, 97, 99}\n"
     ]
    }
   ],
   "source": [
    "a = set(range(1,100,2))\n",
    "print(a)"
   ]
  },
  {
   "attachments": {},
   "cell_type": "markdown",
   "metadata": {},
   "source": [
    "### 3번   \n",
    "중첩 루프를 사용하여 구구단을 모두 출력하는 코드를 작성하세요"
   ]
  },
  {
   "cell_type": "code",
   "execution_count": 3,
   "metadata": {},
   "outputs": [
    {
     "name": "stdout",
     "output_type": "stream",
     "text": [
      "2*1 = 2\n",
      "2*2 = 4\n",
      "2*3 = 6\n",
      "2*4 = 8\n",
      "2*5 = 10\n",
      "2*6 = 12\n",
      "2*7 = 14\n",
      "2*8 = 16\n",
      "2*9 = 18\n",
      "3*1 = 3\n",
      "3*2 = 6\n",
      "3*3 = 9\n",
      "3*4 = 12\n",
      "3*5 = 15\n",
      "3*6 = 18\n",
      "3*7 = 21\n",
      "3*8 = 24\n",
      "3*9 = 27\n",
      "4*1 = 4\n",
      "4*2 = 8\n",
      "4*3 = 12\n",
      "4*4 = 16\n",
      "4*5 = 20\n",
      "4*6 = 24\n",
      "4*7 = 28\n",
      "4*8 = 32\n",
      "4*9 = 36\n",
      "5*1 = 5\n",
      "5*2 = 10\n",
      "5*3 = 15\n",
      "5*4 = 20\n",
      "5*5 = 25\n",
      "5*6 = 30\n",
      "5*7 = 35\n",
      "5*8 = 40\n",
      "5*9 = 45\n",
      "6*1 = 6\n",
      "6*2 = 12\n",
      "6*3 = 18\n",
      "6*4 = 24\n",
      "6*5 = 30\n",
      "6*6 = 36\n",
      "6*7 = 42\n",
      "6*8 = 48\n",
      "6*9 = 54\n",
      "7*1 = 7\n",
      "7*2 = 14\n",
      "7*3 = 21\n",
      "7*4 = 28\n",
      "7*5 = 35\n",
      "7*6 = 42\n",
      "7*7 = 49\n",
      "7*8 = 56\n",
      "7*9 = 63\n",
      "8*1 = 8\n",
      "8*2 = 16\n",
      "8*3 = 24\n",
      "8*4 = 32\n",
      "8*5 = 40\n",
      "8*6 = 48\n",
      "8*7 = 56\n",
      "8*8 = 64\n",
      "8*9 = 72\n",
      "9*1 = 9\n",
      "9*2 = 18\n",
      "9*3 = 27\n",
      "9*4 = 36\n",
      "9*5 = 45\n",
      "9*6 = 54\n",
      "9*7 = 63\n",
      "9*8 = 72\n",
      "9*9 = 81\n"
     ]
    }
   ],
   "source": [
    "for i in range(2,10):\n",
    "    for j in range(1,10):\n",
    "        print(f'{i}*{j} = {i*j}')"
   ]
  },
  {
   "attachments": {},
   "cell_type": "markdown",
   "metadata": {},
   "source": [
    "### 4번   \n",
    "'test.txt'라는 파일을 생성하고, 해당 파일에 문자열 'Hello, Python!'을 쓰는 코드를 작성하세요.\n"
   ]
  },
  {
   "cell_type": "code",
   "execution_count": 4,
   "metadata": {},
   "outputs": [],
   "source": [
    "with open('test.txt','w') as file:\n",
    "    file.writelines(\"'Hello, Pyhton!'\")"
   ]
  },
  {
   "attachments": {},
   "cell_type": "markdown",
   "metadata": {},
   "source": [
    "### 5번   \n",
    "주어진 숫자가 소수인지 판별하는 함수를 작성하세요.   \n",
    "주어진 숫자 17,15"
   ]
  },
  {
   "cell_type": "code",
   "execution_count": 5,
   "metadata": {},
   "outputs": [],
   "source": [
    "def sosu(a):\n",
    "    b = set()\n",
    "    for i in range(2,a):\n",
    "        if a%i == 0:\n",
    "            b.add(False)\n",
    "        else:\n",
    "            b.add(True)\n",
    "\n",
    "    if False in b:\n",
    "        return('False')\n",
    "    else:\n",
    "        return('True')\n",
    "\n"
   ]
  },
  {
   "cell_type": "code",
   "execution_count": null,
   "metadata": {},
   "outputs": [],
   "source": []
  },
  {
   "cell_type": "code",
   "execution_count": 6,
   "metadata": {},
   "outputs": [
    {
     "name": "stdout",
     "output_type": "stream",
     "text": [
      "False\n"
     ]
    }
   ],
   "source": [
    "a = int(input())\n",
    "print('False' if any(a % i == 0 for i in range(2, a)) else 'True')\n"
   ]
  },
  {
   "attachments": {},
   "cell_type": "markdown",
   "metadata": {},
   "source": [
    "### 6번   \n",
    "재귀호출을 이용해 피보나치 수열의 n번째 항을 반환하는 함수를 작성하세요.   \n",
    "(단, n은 1이상이며, 첫 번째 항과 두 번째 항은 모두 1입니다.)   \n",
    "피보나치 수열   \n",
    "1 1 2 3 5 8 13 21..."
   ]
  },
  {
   "cell_type": "code",
   "execution_count": 2,
   "metadata": {},
   "outputs": [
    {
     "name": "stdout",
     "output_type": "stream",
     "text": [
      "[1, 1, 2]\n",
      "[1, 1, 2, 3]\n",
      "[1, 1, 2, 3, 5]\n",
      "[1, 1, 2, 3, 5, 8]\n",
      "[1, 1, 2, 3, 5, 8, 13]\n",
      "5\n"
     ]
    }
   ],
   "source": [
    "def fibonacci_number(a):\n",
    "    number_list = [1,1]\n",
    "    for i in range(0,a):\n",
    "        next_number = number_list[i] + number_list[i+1]\n",
    "        number_list.append(next_number)\n",
    "        print(number_list)\n",
    "    return number_list[a-1]\n",
    "c = int(input())\n",
    "print(fibonacci_number(c))\n"
   ]
  },
  {
   "attachments": {},
   "cell_type": "markdown",
   "metadata": {},
   "source": [
    "### 7번   \n",
    "'Student’라는 클래스를 생성하고, 이 클래스가 학번(id), 이름(name), 나이(age), 전화번호(tel), 주소(address)   \n",
    "라는 속성을 가지도록 코드를 작성하세요. 테스트코드는 임의로 작성하여 작동여부를 테스트함."
   ]
  },
  {
   "cell_type": "code",
   "execution_count": 8,
   "metadata": {},
   "outputs": [
    {
     "name": "stdout",
     "output_type": "stream",
     "text": [
      "id :  3948902\n",
      "이름 :  마리아\n",
      "나이 :  20\n",
      "전화번호 : 12345678\n",
      "주소 :  여수 어딘가\n"
     ]
    }
   ],
   "source": [
    "class Student:\n",
    "    def __init__(self, id, name, age, tel, address):\n",
    "        self.id = id\n",
    "        self.name = name\n",
    "        self.age = age\n",
    "        self.tel = tel\n",
    "        self.address = address\n",
    "    \n",
    "\n",
    "   \n",
    "\n",
    "maria = Student(3948902,'마리아', 20, 12345678,'여수 어딘가')\n",
    "\n",
    "\n",
    "print(\"id : \",maria.id)\n",
    "print(\"이름 : \",maria.name)\n",
    "print(\"나이 : \",maria.age)\n",
    "print(\"전화번호 :\",maria.tel)\n",
    "print(\"주소 : \",maria.address)"
   ]
  },
  {
   "attachments": {},
   "cell_type": "markdown",
   "metadata": {},
   "source": [
    "### 8번   \n",
    "리스트의 중복된 요소를 제거하여 반환하는 함수를 작성하세요. 이때, set을 사용하세요.\n"
   ]
  },
  {
   "cell_type": "code",
   "execution_count": 9,
   "metadata": {},
   "outputs": [
    {
     "name": "stdout",
     "output_type": "stream",
     "text": [
      "[1, 2, 3, 4, 5]\n"
     ]
    }
   ],
   "source": [
    "a = [1,2,3,4,5,3,2,1]\n",
    "b = set()\n",
    "for i in a:\n",
    "    b.add(i)\n",
    "\n",
    "c = list(b)\n",
    "print(c)\n"
   ]
  },
  {
   "attachments": {},
   "cell_type": "markdown",
   "metadata": {},
   "source": [
    "### 9번   \n",
    "파일에서 특정 문자열을 찾아 다른 문자열로 바꾸는 함수를 작성하세요."
   ]
  },
  {
   "cell_type": "code",
   "execution_count": 2,
   "metadata": {},
   "outputs": [],
   "source": [
    "def replace_text(name,old, new):\n",
    "    with open(name, 'r') as file:\n",
    "        content = file.read()\n",
    "\n",
    "    text = content.replace(old, new)\n",
    "\n",
    "    with open(name, 'w') as file:\n",
    "        file.write(text)\n",
    "name = 'test.txt'\n",
    "old = 'Hello'\n",
    "new = 'Hi'\n",
    "replace_text(name, old, new)"
   ]
  },
  {
   "attachments": {},
   "cell_type": "markdown",
   "metadata": {},
   "source": [
    "### 10번   \n",
    "중첩 루프를 사용하여 별(*)로 피라미드를 출력하는 코드를 작성하세요"
   ]
  },
  {
   "cell_type": "code",
   "execution_count": 11,
   "metadata": {},
   "outputs": [
    {
     "name": "stdout",
     "output_type": "stream",
     "text": [
      "    *\n",
      "   ***\n",
      "  *****\n",
      " *******\n",
      "*********\n"
     ]
    }
   ],
   "source": [
    "for i in range(5):  \n",
    "    for j in range(5 - i - 1):  \n",
    "        print(\" \", end=\"\")\n",
    "    for k in range(2 * i + 1):  \n",
    "        print(\"*\", end=\"\")\n",
    "    \n",
    "    print()  "
   ]
  },
  {
   "cell_type": "code",
   "execution_count": null,
   "metadata": {},
   "outputs": [],
   "source": [
    "print('\\n'.join([' '*(5-i-1)+'*'*(i*2+1) for i in range(5)]))"
   ]
  },
  {
   "attachments": {},
   "cell_type": "markdown",
   "metadata": {},
   "source": [
    "### 11번   \n",
    "정수를 입력받아 그 수의 팩토리얼을 재귀 함수로 계산하는 코드를 작성하세요"
   ]
  },
  {
   "cell_type": "code",
   "execution_count": 12,
   "metadata": {},
   "outputs": [
    {
     "name": "stdout",
     "output_type": "stream",
     "text": [
      "120\n"
     ]
    }
   ],
   "source": [
    "fac = lambda a: a * fac(a - 1) if a > 1 else 1\n",
    "\n",
    "print(fac(5))\n",
    "\n"
   ]
  },
  {
   "attachments": {},
   "cell_type": "markdown",
   "metadata": {},
   "source": [
    "### 12번   \n",
    "위의 'Student'라는 클래스를 변형하여, 'Person' 클래스를 상속받도록 코드를 작성하세요.   \n",
    "‘Person’과 ‘Student’가 가질 속성을 의미를 고려하여 나눌것\n",
    "\n"
   ]
  },
  {
   "cell_type": "code",
   "execution_count": 13,
   "metadata": {},
   "outputs": [
    {
     "name": "stdout",
     "output_type": "stream",
     "text": [
      "id :  3948902\n",
      "이름 :  마리아\n",
      "나이 :  20\n",
      "전화번호 : 12345678\n",
      "주소 :  여수 어딘가\n"
     ]
    }
   ],
   "source": [
    "class Person:\n",
    "    def __init__(self, name, age, tel, address):\n",
    "        self.name = name\n",
    "        self.age = age\n",
    "        self.tel = tel\n",
    "        self.address = address\n",
    "\n",
    "class Student(Person):\n",
    "    def __init__(self, id, name, age, tel, address):\n",
    "        super().__init__(name, age, tel, address)\n",
    "        self.id = id\n",
    "\n",
    "\n",
    "maria = Student(3948902,'마리아', 20, 12345678,'여수 어딘가')\n",
    "\n",
    "\n",
    "print(\"id : \",maria.id)\n",
    "print(\"이름 : \",maria.name)\n",
    "print(\"나이 : \",maria.age)\n",
    "print(\"전화번호 :\",maria.tel)\n",
    "print(\"주소 : \",maria.address)"
   ]
  },
  {
   "attachments": {},
   "cell_type": "markdown",
   "metadata": {},
   "source": [
    "### 13번   \n",
    "주어진 딕셔너리의 키만 리스트로 반환하는 함수를 작성하세요."
   ]
  },
  {
   "cell_type": "code",
   "execution_count": 14,
   "metadata": {},
   "outputs": [
    {
     "name": "stdout",
     "output_type": "stream",
     "text": [
      "['apple', 'banana', 'cherry']\n"
     ]
    }
   ],
   "source": [
    "def get_keys(dictionary):\n",
    "    return list(dictionary.keys())\n",
    "\n",
    "my_dict = {'apple': '사과', 'banana': '바나나', 'cherry': '체리'}\n",
    "keys_list = get_keys(my_dict)\n",
    "print(keys_list)\n"
   ]
  },
  {
   "attachments": {},
   "cell_type": "markdown",
   "metadata": {},
   "source": [
    "### 14번   \n",
    "임의의 텍스트 파일 (뉴스나 인터넷 기사를 copy & paste)의 모든 라인을 읽어,   \n",
    "각 라인에 포함된 unique한 단어의 개수를 출력하는 코드를 작성하세요."
   ]
  },
  {
   "attachments": {},
   "cell_type": "markdown",
   "metadata": {},
   "source": []
  },
  {
   "cell_type": "code",
   "execution_count": 6,
   "metadata": {},
   "outputs": [
    {
     "name": "stdout",
     "output_type": "stream",
     "text": [
      "unique단어 : 상어 3\n",
      "{154, 21, 127}\n"
     ]
    }
   ],
   "source": [
    "with open('file.txt','r',encoding='utf-8') as file: #파일을 열어서 file로 정의를 함\n",
    "    a = file.read() #텍스트를 읽어서 a 변수에 저장\n",
    "    b = set() #set 생성\n",
    "    unique_word = '상어'#유니크 단어를 상어로 설정\n",
    "    for i in range(len(a)): #len을 이용해서 단어의 개수를 샘 for 문은 알지?\n",
    "        b.add(a.find(unique_word,i))#find 함수를 이용해서 \n",
    "#set으로 저장하는 이유는 find 특성때문에 set쓴거임 set은 저장할때 중복을 저장을 안하기 때문에 이용 \n",
    "#find는 index기준 가장가까운 다음 단어를 찾기 때문에 유니크 단어를 넘어가야 다음 유니크 단어 위치를 찾음\n",
    "    b.remove(-1)#find는 더이상 찾을 단어가 없으면 -1을 출력하기 때문에 이를 없애주기 위함\n",
    "    print(f'unique단어 : {unique_word}',len(b))\n",
    "    print(b)\n",
    "\n"
   ]
  },
  {
   "cell_type": "code",
   "execution_count": 7,
   "metadata": {},
   "outputs": [
    {
     "name": "stdout",
     "output_type": "stream",
     "text": [
      "{154, 21, 127}\n"
     ]
    }
   ],
   "source": [
    "with open('file.txt', 'r', encoding='utf-8') as file:\n",
    "    a = file.read()\n",
    "    unique_word = '상어'\n",
    "    b = set(a.find(unique_word, i) for i in range(len(a)) if a.find(unique_word, i) != -1)\n",
    "    print(b)\n"
   ]
  },
  {
   "attachments": {},
   "cell_type": "markdown",
   "metadata": {},
   "source": [
    "### 15번   \n",
    "2차원 리스트를 입력 받아 (혹은 랜덤으로 생성하여),   \n",
    "리스트의 각 요소들을 순회하며 출력하는 함수를 작성하세요. 중첩 루프를 사용하세요."
   ]
  },
  {
   "cell_type": "code",
   "execution_count": 16,
   "metadata": {},
   "outputs": [
    {
     "name": "stdout",
     "output_type": "stream",
     "text": [
      "4 3 6 \n",
      "1 6 4 \n",
      "8 6 9 \n"
     ]
    }
   ],
   "source": [
    "def print_2d_list(a):\n",
    "    for i in a: #2차원 리스트에서  \n",
    "        for j in i:\n",
    "            print(j, end=' ')\n",
    "        print()\n",
    "        \n",
    "a = [[4, 3,6 ], [1, 6, 4], [8, 6, 9]]\n",
    "print_2d_list(a)\n"
   ]
  },
  {
   "attachments": {},
   "cell_type": "markdown",
   "metadata": {},
   "source": [
    "### 16번\n",
    "재귀호출을 사용하여 주어진 문자열을 거꾸로 뒤집는 함수를 작성하세요.\n"
   ]
  },
  {
   "cell_type": "code",
   "execution_count": 17,
   "metadata": {},
   "outputs": [
    {
     "name": "stdout",
     "output_type": "stream",
     "text": [
      "olleH\n",
      "nohtyP\n",
      "IAnepO\n"
     ]
    }
   ],
   "source": [
    "def reverse_text(s):\n",
    "    reversed_s = s[::-1]\n",
    "    return reversed_s\n",
    "\n",
    "\n",
    "\n",
    "print(reverse_text(\"Hello\"))\n",
    "print(reverse_text(\"Python\"))\n",
    "print(reverse_text(\"OpenAI\"))\n"
   ]
  },
  {
   "attachments": {},
   "cell_type": "markdown",
   "metadata": {},
   "source": [
    "### 17번\n",
    "주어진 리스트에 대해 각 숫자의 출현 횟수를 딕셔너리로 반환하는 함수를 작성하세요\n"
   ]
  },
  {
   "cell_type": "code",
   "execution_count": 18,
   "metadata": {},
   "outputs": [
    {
     "name": "stdout",
     "output_type": "stream",
     "text": [
      "{1: 1, 2: 2, 3: 3, 4: 4}\n"
     ]
    }
   ],
   "source": [
    "number_list = [1, 2, 2, 3, 3, 3, 4, 4, 4, 4]\n",
    "number_set = set(number_list)\n",
    "number_count = list()\n",
    "number_key = list()\n",
    "number_dic = dict()\n",
    "\n",
    "for i in range(len(number_set)):\n",
    "    b = number_set.pop()\n",
    "    number_count.append(number_list.count(b))\n",
    "    number_key.append(i + 1)\n",
    "\n",
    "for j in range(len(number_key)):\n",
    "    number_dic[number_key[j]] = number_count[j]\n",
    "\n",
    "print(number_dic)\n"
   ]
  },
  {
   "cell_type": "code",
   "execution_count": 19,
   "metadata": {},
   "outputs": [],
   "source": [
    "s = list(set())"
   ]
  }
 ],
 "metadata": {
  "kernelspec": {
   "display_name": "Python 3",
   "language": "python",
   "name": "python3"
  },
  "language_info": {
   "codemirror_mode": {
    "name": "ipython",
    "version": 3
   },
   "file_extension": ".py",
   "mimetype": "text/x-python",
   "name": "python",
   "nbconvert_exporter": "python",
   "pygments_lexer": "ipython3",
   "version": "3.11.3"
  },
  "orig_nbformat": 4
 },
 "nbformat": 4,
 "nbformat_minor": 2
}
